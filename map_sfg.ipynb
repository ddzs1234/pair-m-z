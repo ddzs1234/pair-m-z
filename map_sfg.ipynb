{
 "cells": [
  {
   "cell_type": "code",
   "execution_count": 10,
   "metadata": {
    "ExecuteTime": {
     "end_time": "2019-11-11T13:38:34.223997Z",
     "start_time": "2019-11-11T13:38:33.318427Z"
    }
   },
   "outputs": [
    {
     "name": "stdout",
     "output_type": "stream",
     "text": [
      "(74, 74) (74, 74)\n"
     ]
    },
    {
     "ename": "NameError",
     "evalue": "name 'sf_02' is not defined",
     "output_type": "error",
     "traceback": [
      "\u001b[0;31m---------------------------------------------------------------------------\u001b[0m",
      "\u001b[0;31mNameError\u001b[0m                                 Traceback (most recent call last)",
      "\u001b[0;32m<ipython-input-10-3b0deed3430a>\u001b[0m in \u001b[0;36m<module>\u001b[0;34m\u001b[0m\n\u001b[1;32m    141\u001b[0m \u001b[0;34m\u001b[0m\u001b[0m\n\u001b[1;32m    142\u001b[0m \u001b[0;32mif\u001b[0m \u001b[0m__name__\u001b[0m \u001b[0;34m==\u001b[0m \u001b[0;34m'__main__'\u001b[0m\u001b[0;34m:\u001b[0m\u001b[0;34m\u001b[0m\u001b[0;34m\u001b[0m\u001b[0m\n\u001b[0;32m--> 143\u001b[0;31m     \u001b[0mcheck_agn_remove_process\u001b[0m\u001b[0;34m(\u001b[0m\u001b[0;34m)\u001b[0m\u001b[0;34m\u001b[0m\u001b[0;34m\u001b[0m\u001b[0m\n\u001b[0m",
      "\u001b[0;32m<ipython-input-10-3b0deed3430a>\u001b[0m in \u001b[0;36mcheck_agn_remove_process\u001b[0;34m()\u001b[0m\n\u001b[1;32m    136\u001b[0m             \u001b[0;32mif\u001b[0m \u001b[0msf_01\u001b[0m\u001b[0;34m/\u001b[0m\u001b[0mall_01\u001b[0m\u001b[0;34m>\u001b[0m\u001b[0;36m0.3\u001b[0m\u001b[0;34m:\u001b[0m\u001b[0;34m\u001b[0m\u001b[0;34m\u001b[0m\u001b[0m\n\u001b[1;32m    137\u001b[0m                 \u001b[0mprint\u001b[0m\u001b[0;34m(\u001b[0m\u001b[0mi\u001b[0m\u001b[0;34m,\u001b[0m\u001b[0mopen\u001b[0m\u001b[0;34m(\u001b[0m\u001b[0mdir_res\u001b[0m\u001b[0;34m+\u001b[0m\u001b[0;34m'0-1re-vaild.txt'\u001b[0m\u001b[0;34m)\u001b[0m\u001b[0;34m,\u001b[0m\u001b[0;34m'a+'\u001b[0m\u001b[0;34m)\u001b[0m\u001b[0;34m\u001b[0m\u001b[0;34m\u001b[0m\u001b[0m\n\u001b[0;32m--> 138\u001b[0;31m             \u001b[0;32mif\u001b[0m \u001b[0msf_02\u001b[0m\u001b[0;34m/\u001b[0m\u001b[0mall_02\u001b[0m\u001b[0;34m>\u001b[0m\u001b[0;36m0.3\u001b[0m\u001b[0;34m:\u001b[0m\u001b[0;34m\u001b[0m\u001b[0;34m\u001b[0m\u001b[0m\n\u001b[0m\u001b[1;32m    139\u001b[0m                 \u001b[0mprint\u001b[0m\u001b[0;34m(\u001b[0m\u001b[0mi\u001b[0m\u001b[0;34m,\u001b[0m\u001b[0mopen\u001b[0m\u001b[0;34m(\u001b[0m\u001b[0mdir_res\u001b[0m\u001b[0;34m+\u001b[0m\u001b[0;34m'1-1.5re-vaild.txt'\u001b[0m\u001b[0;34m,\u001b[0m\u001b[0;34m'a+'\u001b[0m\u001b[0;34m)\u001b[0m\u001b[0;34m)\u001b[0m\u001b[0;34m\u001b[0m\u001b[0;34m\u001b[0m\u001b[0m\n\u001b[1;32m    140\u001b[0m \u001b[0;34m\u001b[0m\u001b[0m\n",
      "\u001b[0;31mNameError\u001b[0m: name 'sf_02' is not defined"
     ]
    }
   ],
   "source": [
    "import matplotlib.pyplot as plt\n",
    "from astropy.io import fits\n",
    "from astropy.table import Table\n",
    "import numpy as np\n",
    "import os\n",
    "\n",
    "np.seterr(divide='ignore', invalid='ignore')\n",
    "plt.rcParams.update({'figure.max_open_warning': 0})\n",
    "\n",
    "###############################################################################################\n",
    "dir_stack = '/Users/astro/Documents/notebooks/zs/pair-m-z/stacking/'\n",
    "dir_drp='/Users/astro/Documents/notebooks/manga/spectro/analysis/MPL-8/drpall-v2_5_3.fits'\n",
    "dir_dap = '/Users/astro/Documents/notebooks/manga/spectro/analysis/MPL-8/HYB10-MILESHC-MILESHC/'\n",
    "dir_res='/Users/astro/Documents/notebooks/zs/pair-m-z/bpt/'\n",
    "###############################################################################################\n",
    "\n",
    "def plot(wave,flux,nii,ha,oiii,hb,ellcoo,i):\n",
    "    \n",
    "    plt.figure(figsize=(15, 15))\n",
    "    ax1 = plt.subplot(221)\n",
    "    ax2=plt.subplot(222)\n",
    "    ax3=plt.subplot(223)\n",
    "    ax4=plt.subplot(224)\n",
    "    \n",
    "    x=np.log10(nii/ha)\n",
    "    y=np.log10(oiii/hb)\n",
    "    \n",
    "    ax1.plot(wave, flux, label='stacking spectral')\n",
    "    ax1.set_xlabel(r\"$\\lambda$ (A)\")\n",
    "    ax1.set_ylabel(r'$10^{17}$ erg/s/cm2')\n",
    "    ax1.legend()\n",
    "    \n",
    "    # bpt line\n",
    "    x_bpt=np.arange(np.min(x)-0.01,0.2,0.02)\n",
    "    y_bpt=0.61/(x_bpt-0.47)+1.19\n",
    "    x_bpt1=np.arange(np.min(x)-0.01,-0.2,0.02)\n",
    "    y_bpt1=0.61/(x_bpt1-0.05)+1.3\n",
    "    ax2.plot(x_bpt,y_bpt,'r')\n",
    "    ax2.plot(x_bpt1,y_bpt1,'k:')\n",
    "        \n",
    "    mask_sf=(y<(0.61/(x-0.05)+1.3))&(x<0.05)&(y<(0.61/(x-0.47)+1.19))\n",
    "    x_sf=x[mask_sf]\n",
    "    y_sf=y[mask_sf]\n",
    "    ax2.scatter(x,y,color='dodgerblue',s=2)\n",
    "    ax2.scatter(x_sf,y_sf,color='orange',s=2)\n",
    "    ax2.set_xlabel('log(NII/Ha)')\n",
    "    ax2.set_ylabel('log([OIII]/Hb)')\n",
    "    \n",
    "    # 0-1re\n",
    "    mask_0_1re=(ellcoo<=1)\n",
    "    print(nii.shape,mask_0_1re.shape)\n",
    "    nii_1re=nii[mask_0_1re]\n",
    "    ha_1re=nii[mask_0_1re]\n",
    "    oiii_1re=oiii[mask_0_1re]\n",
    "    hb_1re=hb[mask_0_1re]\n",
    "    x_1re=np.log10(nii_1re/ha_1re)\n",
    "    y_1re=np.log10(oiii_1re/hb_1re)\n",
    "    mask_sf_1re=(y_1re<(0.61/(x_1re-0.05)+1.3))&(x_1re<0.05)&(y_1re<(0.61/(x_1re-0.47)+1.19))\n",
    "    x_sf_1re=x_1re[mask_sf_1re]\n",
    "    y_sf_1re=y_1re[mask_sf_1re]\n",
    "    ax3.scatter(x_1re,y_1re,color='dodgerblue',s=2)\n",
    "    ax3.scatter(x_sf_1re,y_sf_1re,color='orange',s=2,label='sf')\n",
    "    ax3.plot(x_bpt,y_bpt,'r')\n",
    "    ax3.plot(x_bpt1,y_bpt1,'k:')\n",
    "    ax3.set_xlim(np.min(x_1re)-0.02,np.max(x_1re)+0.04)\n",
    "    ax3.set_xlabel('log(NII/Ha)')\n",
    "    ax3.set_ylabel('log([OIII]/Hb)')\n",
    "    ax3.set_title('%s : 0-1re'%i)\n",
    "\n",
    "    # 1-1.5re\n",
    "    mask_1_15re=(ellcoo<=1.5)&(ellcoo>1)\n",
    "    nii_1_15re=nii[mask_1_15re]\n",
    "    ha_1_15re=nii[mask_1_15re]\n",
    "    oiii_1_15re=oiii[mask_1_15re]\n",
    "    hb_1_15re=hb[mask_1_15re]\n",
    "    x_1_15re=np.log10(nii_1_15re/ha_1_15re)\n",
    "    y_1_15re=np.log10(oiii_1_15re/hb_1_15re)\n",
    "    mask_sf_1_15re=(y_1_15re<(0.61/(x_1_15re-0.05)+1.3))&(x_1_15re<0.05)&(y_1_15re<(0.61/(x_1_15re-0.47)+1.19))\n",
    "    x_sf_1_15re=x_1_15re[mask_sf_1_15re]\n",
    "    y_sf_1_15re=y_1_15re[mask_sf_1_15re]\n",
    "    ax4.scatter(x_1_15re,y_1_15re,color='dodgerblue',s=2)\n",
    "    ax4.scatter(x_sf_1_15re,y_sf_1_15re,color='orange',s=2,label='sf')\n",
    "    ax4.plot(x_bpt,y_bpt,'r')\n",
    "    ax4.plot(x_bpt1,y_bpt1,'k:')\n",
    "    ax4.set_xlim(np.min(x_1_15re)-0.02,np.max(x_1_15re)+0.04)\n",
    "    ax4.set_xlabel('log(NII/Ha)')\n",
    "    ax4.set_ylabel('log([OIII]/Hb)')\n",
    "    ax4.set_title('%s : 1-1.5re'%i)    \n",
    "    plt.savefig(dir_res+i+'_bpt.jpg')\n",
    "    plt.close()\n",
    "    \n",
    "    return mask_0_1re,mask_sf_1re,mask_1_15re,mask_sf_1_15re\n",
    "    \n",
    "def vaild(mask_region,mask_sf,i):\n",
    "    \n",
    "    all_num=np.sum(mask_region)\n",
    "    sf_num=np.sum(mask_sf)\n",
    "    return all_num,sf_num\n",
    "\n",
    "def check_agn_remove_process():\n",
    "    \n",
    "    f_drp=fits.open(dir_drp)\n",
    "    plateifu=f_drp[1].data.field('plateifu')\n",
    "\n",
    "    for i in plateifu:        \n",
    "        if os.path.exists(dir_stack+i+'_1re_stack.fits'):\n",
    "            ###############################读数据\n",
    "            f1=fits.open(dir_stack+i+'_1re_stack.fits')\n",
    "            t = f1[1].data\n",
    "            wave = t['wave']\n",
    "            flux = t['flux']\n",
    "            \n",
    "            plate = i.split('-')[0]\n",
    "            ifu = i.split('-')[1]\n",
    "\n",
    "            mapf=fits.open(dir_dap+plate+'/'+ifu+'/manga-'+i+'-MAPS-HYB10-MILESHC-MILESHC.fits.gz') \n",
    "            flux_map = mapf['EMLINE_GFLUX'].data\n",
    "            mask_map = mapf['EMLINE_GFLUX_MASK'].data\n",
    "            ellcoo = mapf['SPX_ELLCOO'].data[1]\n",
    "\n",
    "            mask=(mask_map!=0)\n",
    "            flux_map=np.ma.array(flux_map,mask=mask)\n",
    "\n",
    "            nii=flux_map[19]\n",
    "            ha=flux_map[18]\n",
    "            oiii=flux_map[13]\n",
    "            hb=flux_map[11]\n",
    "            ###############################\n",
    "            mask_0_1re,mask_sf_1re,mask_1_15re,mask_sf_1_15re=plot(wave,flux,nii,ha,oiii,hb,ellcoo,i)\n",
    "            \n",
    "            \n",
    "            all_01,sf_01=vaild(mask_0_1re,mask_sf_1re,i)\n",
    "            all_115,sf_115=vaild(mask_1_15re,mask_sf_1_15re,i)\n",
    "            \n",
    "\n",
    "            if sf_01/all_01>0.3:\n",
    "                print(i,open(dir_res+'0-1re-vaild.txt'),'a+')\n",
    "            if sf_115/all_115>0.3:\n",
    "                print(i,open(dir_res+'1-1.5re-vaild.txt','a+'))\n",
    "            \n",
    "\n",
    "if __name__ == '__main__':\n",
    "    check_agn_remove_process()"
   ]
  },
  {
   "cell_type": "code",
   "execution_count": 1,
   "metadata": {
    "ExecuteTime": {
     "end_time": "2019-11-11T13:19:41.535970Z",
     "start_time": "2019-11-11T13:19:41.531131Z"
    }
   },
   "outputs": [],
   "source": [
    "a=2\n",
    "\n",
    "def num(a):\n",
    "    if a >1:\n",
    "        return 'a'\n",
    "    else:\n",
    "        return 'b'"
   ]
  },
  {
   "cell_type": "code",
   "execution_count": 3,
   "metadata": {
    "ExecuteTime": {
     "end_time": "2019-11-11T13:19:51.486376Z",
     "start_time": "2019-11-11T13:19:51.481147Z"
    }
   },
   "outputs": [
    {
     "data": {
      "text/plain": [
       "'b'"
      ]
     },
     "execution_count": 3,
     "metadata": {},
     "output_type": "execute_result"
    }
   ],
   "source": [
    "num(0)"
   ]
  },
  {
   "cell_type": "code",
   "execution_count": null,
   "metadata": {},
   "outputs": [],
   "source": []
  }
 ],
 "metadata": {
  "hide_input": false,
  "kernelspec": {
   "display_name": "Python 3",
   "language": "python",
   "name": "python3"
  },
  "language_info": {
   "codemirror_mode": {
    "name": "ipython",
    "version": 3
   },
   "file_extension": ".py",
   "mimetype": "text/x-python",
   "name": "python",
   "nbconvert_exporter": "python",
   "pygments_lexer": "ipython3",
   "version": "3.7.2"
  },
  "nbTranslate": {
   "displayLangs": [
    "*"
   ],
   "hotkey": "alt-t",
   "langInMainMenu": true,
   "sourceLang": "en",
   "targetLang": "fr",
   "useGoogleTranslate": true
  },
  "toc": {
   "base_numbering": 1,
   "nav_menu": {},
   "number_sections": true,
   "sideBar": true,
   "skip_h1_title": false,
   "title_cell": "Table of Contents",
   "title_sidebar": "Contents",
   "toc_cell": false,
   "toc_position": {},
   "toc_section_display": true,
   "toc_window_display": false
  },
  "varInspector": {
   "cols": {
    "lenName": 16,
    "lenType": 16,
    "lenVar": 40
   },
   "kernels_config": {
    "python": {
     "delete_cmd_postfix": "",
     "delete_cmd_prefix": "del ",
     "library": "var_list.py",
     "varRefreshCmd": "print(var_dic_list())"
    },
    "r": {
     "delete_cmd_postfix": ") ",
     "delete_cmd_prefix": "rm(",
     "library": "var_list.r",
     "varRefreshCmd": "cat(var_dic_list()) "
    }
   },
   "types_to_exclude": [
    "module",
    "function",
    "builtin_function_or_method",
    "instance",
    "_Feature"
   ],
   "window_display": false
  }
 },
 "nbformat": 4,
 "nbformat_minor": 2
}
