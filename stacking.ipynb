{
 "cells": [
  {
   "cell_type": "code",
   "execution_count": 2,
   "metadata": {
    "ExecuteTime": {
     "end_time": "2019-10-12T02:22:34.891898Z",
     "start_time": "2019-10-12T02:22:34.872100Z"
    },
    "cell_style": "center"
   },
   "outputs": [
    {
     "ename": "SyntaxError",
     "evalue": "unexpected EOF while parsing (<ipython-input-2-854eee28136f>, line 42)",
     "output_type": "error",
     "traceback": [
      "\u001b[0;36m  File \u001b[0;32m\"<ipython-input-2-854eee28136f>\"\u001b[0;36m, line \u001b[0;32m42\u001b[0m\n\u001b[0;31m    \u001b[0m\n\u001b[0m    ^\u001b[0m\n\u001b[0;31mSyntaxError\u001b[0m\u001b[0;31m:\u001b[0m unexpected EOF while parsing\n"
     ]
    }
   ],
   "source": [
    "import numpy as np \n",
    "import matplotlib.pyplot as plt\n",
    "\n",
    "\n",
    "class stacking(object):\n",
    "    \"\"\"\n",
    "    stacking 0-1re\n",
    "    S/N>5 sigma\n",
    "    \"\"\"\n",
    "    def __init__(self,plateifu,wave,flux,ivar,flux_map,ivar_map,mask,ellcoo,v,plot=True):\n",
    "        self.plateifu=plateifu\n",
    "        self.flux = flux\n",
    "        self.wave = wave\n",
    "        self.ivar=ivar\n",
    "        self.flux_map=flux_map\n",
    "        self.ivar_map=ivar_map\n",
    "        self.mask=mask\n",
    "        self.ellcoo = ellcoo\n",
    "        self.v=v\n",
    "        \n",
    "        self.pre=self.remove_agn_badspx_ellcoo()\n",
    "        if self.pre>0.3:\n",
    "            self.vel2z()\n",
    "            self.stack()\n",
    "                \n",
    "    def remove_agn_badspx_ellcoo(self):\n",
    "        \"\"\"\n",
    "        remove bad spaxel in map data\n",
    "        \"\"\"\n",
    "        mask_bad=(self.mask!=0) # !=0 remove\n",
    "        \n",
    "        \"\"\"\n",
    "        BPT diagram remove AGN\n",
    "        Kauffmann 2003: log(OIII/hb)>0.61/(log(NII/Ha)-0.05)+1.13\n",
    "        [oiii]5008,4960:13,12(5007)\n",
    "        Hb4862:11\n",
    "        NII6549,6585:17,19(6584)\n",
    "        Ha6564:18\n",
    "        \"\"\"        \n",
    "        x=np.log10(self.flux_map[19]/self.flux_map[18])\n",
    "        y=np.log10(self.flux_map[13]/self.flux_map[11])\n",
    "        mask_bpt=(y<=0.61/(x-0.05)+1.13)\n",
    "        mask_bpt_vaild=(y>0.61/(x-0.05)+1.13)\n",
    "        #mask in agn is not same with sf\n",
    "        #f=np.ma.array(f,mask=mask)\n",
    "        \n",
    "        \"\"\"\n",
    "        ellcoo\n",
    "        \"\"\"\n",
    "        mask_ellcoo=(self.ellcoo>1)\n",
    "        \n",
    "        mask=mask_bad|mask_bpt|mask_ellcoo\n",
    "        \n",
    "        self.flux_map=np.ma.array(self.flux_map,mask=mask)\n",
    "        self.ivar_map=np.ma.array(self.ivar_map,mask=mask)\n",
    "        self.flux=np.ma.array(self.flux,mask=mask)\n",
    "        self.ivar=np.ma.array(self.ivar,mask=mask)\n",
    "        self.v=np.ma.array(self.v,mask=mask)\n",
    "        \n",
    "        \"\"\"\n",
    "        count effective points\n",
    "        \"\"\"\n",
    "        mask_1=(self.ellcoo<=1)\n",
    "        num_all=np.sum(mask_1)\n",
    "        mask_2=mask_1&(mask_bpt_vaild)&(self.mask==0)\n",
    "        num_valid=np.sum(num_vaild)\n",
    "        pre=num_vaild/num_all\n",
    "        print(\"percentage of vaild points : %s / %s\"%(num_vaild,num_all))\n",
    "        print(\"percentage of vaild points : %s\",num_vaild/num_all)\n",
    "        \n",
    "        return pre\n",
    "                \n",
    "    def sf(self):\n",
    "        \"\"\"\n",
    "        Pick out SF region:\n",
    "        \"\"\"\n",
    "        x=np.log10(self.flux_map[19]/self.flux_map[18])\n",
    "        y=np.log10(self.flux_map[13]/self.flux_map[11])\n",
    "        mask=(y<0.61/(x-0.05)+1.13)\n",
    "        # f=f[mask]\n",
    "        return mask\n",
    "        \n",
    "    \n",
    "    def vel2z(self):\n",
    "        self.z=self.v/(3e5)\n",
    "\n",
    "        \n",
    "    def stack(self):\n",
    "        \"\"\"\n",
    "        stacking the spectrum\n",
    "        \"\"\"\n",
    "        print('self.wave.shape[0]',self.wave.shape[0])\n",
    "        self.flux_stack=np.zeros(self.wave.shape[0])\n",
    "        self.ivar_stack=np.zeros(self.wave.shape[0])\n",
    "        for i in range(0,len(self.flux),1):\n",
    "            flux=self.flux[i]\n",
    "            ivar=self.ivar[i]\n",
    "            z=self.z[i]\n",
    "            wave_rest=self.wave/(1+z)\n",
    "            flux=np.interp(wave,wave_rest,flux)\n",
    "            ivar=np.interp(wave,wave_rest,ivar)\n",
    "            # remove ivar==0:\n",
    "            if flux.shape[0]>0:\n",
    "                # shape not size\n",
    "                mask=(ivar==0)\n",
    "                flux=np.ma.array(flux,mask=mask)\n",
    "                ivar=np.ma.array(ivar,mask=mask)\n",
    "                self.flux_stack+=flux\n",
    "                self.ivar_stack+=ivar\n",
    "                # ivar=sum(ivar)            \n",
    "        \"\"\"\n",
    "        SNR\n",
    "        \"\"\"\n",
    "        snr=np.sum(self.flux_stack)*np.sqrt(np.sum(self.ivar_stack))\n",
    "        if snr>5:\n",
    "            \n",
    "            print('plateifu',self.plateifu)\n",
    "            table=[self.wave]\n",
    "            table.append(self.flux_stack)\n",
    "            table.append(self.ivar_stack)\n",
    "            table=np.transpose(table)\n",
    "            t=Table(table,names=['wave','flux','ivar'])\n",
    "            t.write(self.dir+'%s_1re_stack.fits',format='fits')\n",
    "        else:\n",
    "            print('snr<5',self.plateifu)\n",
    "            "
   ]
  },
  {
   "cell_type": "code",
   "execution_count": 1,
   "metadata": {
    "ExecuteTime": {
     "end_time": "2019-10-20T07:54:16.846011Z",
     "start_time": "2019-10-20T07:54:16.782208Z"
    }
   },
   "outputs": [],
   "source": [
    "%load_ext autoreload\n",
    "%autoreload 2"
   ]
  },
  {
   "cell_type": "code",
   "execution_count": null,
   "metadata": {
    "ExecuteTime": {
     "start_time": "2019-10-20T07:55:08.574Z"
    }
   },
   "outputs": [
    {
     "name": "stdout",
     "output_type": "stream",
     "text": [
      "              start                  :\n",
      "10001-12701\n"
     ]
    }
   ],
   "source": [
    "import glob\n",
    "import os\n",
    "from astropy.io import fits\n",
    "import numpy as np\n",
    "\n",
    "\n",
    "import stack\n",
    "\n",
    "np.seterr(divide='ignore', invalid='ignore')\n",
    "\n",
    "dir_drp = '/Users/astro/Documents/notebooks/manga/spectro/redux/v2_5_3/'\n",
    "dir_dap = '/Users/astro/Documents/notebooks/manga/spectro/analysis/MPL-8/HYB10-MILESHC-MILESHC/'\n",
    "dir_res = '/Users/astro/Documents/notebooks/zs/2019-10-18/stacking/'\n",
    "\n",
    "\n",
    "def stacking(plateifu):\n",
    "    print(plateifu)\n",
    "    plate = plateifu.split('-')[0]\n",
    "    ifu = plateifu.split('-')[1]\n",
    "    f_map = dir_dap+plate+'/'+ifu+'/manga-'+plate + \\\n",
    "        '-'+ifu+'-MAPS-HYB10-MILESHC-MILESHC.fits.gz'\n",
    "    f_cube = dir_drp+plate+'/stack/manga-'+plate + \\\n",
    "        '-'+ifu+'-LOGCUBE.fits.gz'\n",
    "    if os.path.exists(f_map) and os.path.exists(f_cube):\n",
    "        cube = fits.open(f_cube)\n",
    "        wave = cube['WAVE'].data\n",
    "        flux_t = np.transpose(cube['FLUX'].data, axes=(1, 2, 0))\n",
    "        ivar_t = np.transpose(cube['IVAR'].data, axes=(1, 2, 0))\n",
    "\n",
    "        mapf = fits.open(f_map)\n",
    "        flux_map = mapf['EMLINE_GFLUX'].data\n",
    "        ivar_map = mapf['EMLINE_GFLUX_IVAR'].data\n",
    "        mask_map = mapf['EMLINE_GFLUX_MASK'].data\n",
    "        ellcoo = mapf['SPX_ELLCOO'].data[1]\n",
    "        stellar_vel = mapf['STELLAR_VEL'].data\n",
    "\n",
    "        stack.stack(plateifu, wave, flux_t, ivar_t, flux_map, ivar_map,\n",
    "                          mask_map, ellcoo, stellar_vel,dir_res)\n",
    "\n",
    "\n",
    "if __name__ == '__main__':\n",
    "    dir_drpall = '/Users/astro/Documents/notebooks/manga/spectro/analysis/MPL-8/drpall-v2_5_3.fits'\n",
    "    f = fits.open(dir_drpall)\n",
    "    data = f[1].data\n",
    "    plateifu = data.field('plateifu')\n",
    "    print('              start                  :')\n",
    "    for i in range(0,len(plateifu),1):\n",
    "        stacking(plateifu[i])\n",
    "    print('              finished               .')\n",
    "#     print('the number of plateifu which have full manga data : ',i_havemanga)\n",
    "# \n"
   ]
  },
  {
   "cell_type": "code",
   "execution_count": null,
   "metadata": {},
   "outputs": [],
   "source": []
  }
 ],
 "metadata": {
  "hide_input": false,
  "kernelspec": {
   "display_name": "Python 3",
   "language": "python",
   "name": "python3"
  },
  "language_info": {
   "codemirror_mode": {
    "name": "ipython",
    "version": 3
   },
   "file_extension": ".py",
   "mimetype": "text/x-python",
   "name": "python",
   "nbconvert_exporter": "python",
   "pygments_lexer": "ipython3",
   "version": "3.7.2"
  },
  "nbTranslate": {
   "displayLangs": [
    "*"
   ],
   "hotkey": "alt-t",
   "langInMainMenu": true,
   "sourceLang": "en",
   "targetLang": "fr",
   "useGoogleTranslate": true
  },
  "toc": {
   "base_numbering": 1,
   "nav_menu": {},
   "number_sections": true,
   "sideBar": true,
   "skip_h1_title": false,
   "title_cell": "Table of Contents",
   "title_sidebar": "Contents",
   "toc_cell": false,
   "toc_position": {
    "height": "calc(100% - 180px)",
    "left": "10px",
    "top": "150px",
    "width": "339.717px"
   },
   "toc_section_display": true,
   "toc_window_display": true
  },
  "varInspector": {
   "cols": {
    "lenName": 16,
    "lenType": 16,
    "lenVar": 40
   },
   "kernels_config": {
    "python": {
     "delete_cmd_postfix": "",
     "delete_cmd_prefix": "del ",
     "library": "var_list.py",
     "varRefreshCmd": "print(var_dic_list())"
    },
    "r": {
     "delete_cmd_postfix": ") ",
     "delete_cmd_prefix": "rm(",
     "library": "var_list.r",
     "varRefreshCmd": "cat(var_dic_list()) "
    }
   },
   "position": {
    "height": "632.85px",
    "left": "1493.17px",
    "right": "20px",
    "top": "145px",
    "width": "350px"
   },
   "types_to_exclude": [
    "module",
    "function",
    "builtin_function_or_method",
    "instance",
    "_Feature"
   ],
   "window_display": true
  }
 },
 "nbformat": 4,
 "nbformat_minor": 2
}
