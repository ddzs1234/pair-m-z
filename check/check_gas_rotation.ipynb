{
 "cells": [
  {
   "cell_type": "markdown",
   "metadata": {},
   "source": [
    "### 1. randomly pick 20 galaxies; 2. plot BPT diagram; 3. stacking(with redden corrected, gas_rotation corrected) fitting, plot BPT diagram;"
   ]
  },
  {
   "cell_type": "code",
   "execution_count": 2,
   "metadata": {
    "ExecuteTime": {
     "end_time": "2020-02-09T02:29:00.660130Z",
     "start_time": "2020-02-09T02:29:00.404039Z"
    }
   },
   "outputs": [],
   "source": [
    "%matplotlib notebook"
   ]
  },
  {
   "cell_type": "code",
   "execution_count": 3,
   "metadata": {
    "ExecuteTime": {
     "end_time": "2020-02-09T02:29:02.344454Z",
     "start_time": "2020-02-09T02:29:02.000046Z"
    }
   },
   "outputs": [],
   "source": [
    "import numpy as np\n",
    "import matplotlib.pyplot as plt\n",
    "from astropy.io import fits\n",
    "from astropy.table import Table\n",
    "import random\n",
    "import os"
   ]
  },
  {
   "cell_type": "markdown",
   "metadata": {},
   "source": [
    "## randomly pick 20 galaxies"
   ]
  },
  {
   "cell_type": "code",
   "execution_count": 4,
   "metadata": {
    "ExecuteTime": {
     "end_time": "2020-02-09T02:29:08.071849Z",
     "start_time": "2020-02-09T02:29:08.000559Z"
    }
   },
   "outputs": [
    {
     "name": "stdout",
     "output_type": "stream",
     "text": [
      "(6779,)\n"
     ]
    }
   ],
   "source": [
    "\n",
    "drp_all='/home/ashley/zs/pair_galaxy/data/drpall-v2_5_3.fits'\n",
    "with fits.open(drp_all) as drp:\n",
    "    plateifu=drp[1].data.field('plateifu')\n",
    "print(plateifu.shape)"
   ]
  },
  {
   "cell_type": "code",
   "execution_count": 5,
   "metadata": {
    "ExecuteTime": {
     "end_time": "2020-02-09T02:29:10.036036Z",
     "start_time": "2020-02-09T02:29:10.022413Z"
    }
   },
   "outputs": [
    {
     "data": {
      "text/plain": [
       "['9880-1902',\n",
       " '10214-12704',\n",
       " '8713-6101',\n",
       " '8593-9101',\n",
       " '8554-12705',\n",
       " '8952-6101',\n",
       " '9038-12702',\n",
       " '8935-12703',\n",
       " '8980-9101',\n",
       " '9498-9101',\n",
       " '9880-3703',\n",
       " '10519-1901',\n",
       " '8481-1901',\n",
       " '9675-3704',\n",
       " '9186-6104',\n",
       " '7993-6103',\n",
       " '9026-12702',\n",
       " '8440-12701',\n",
       " '9494-3701',\n",
       " '8591-6101']"
      ]
     },
     "execution_count": 5,
     "metadata": {},
     "output_type": "execute_result"
    }
   ],
   "source": [
    "galaxies=random.choices(plateifu,k=20)\n",
    "galaxies"
   ]
  },
  {
   "cell_type": "markdown",
   "metadata": {},
   "source": [
    "## mkdir"
   ]
  },
  {
   "cell_type": "code",
   "execution_count": 10,
   "metadata": {
    "ExecuteTime": {
     "end_time": "2020-02-05T05:36:06.699408Z",
     "start_time": "2020-02-05T05:36:06.420748Z"
    }
   },
   "outputs": [],
   "source": [
    "os.mkdir('/media/ashley/project/pair_galaxy/2020_2_5/')\n",
    "# contain compare information"
   ]
  },
  {
   "cell_type": "markdown",
   "metadata": {},
   "source": [
    "## stacking"
   ]
  },
  {
   "cell_type": "code",
   "execution_count": null,
   "metadata": {},
   "outputs": [],
   "source": [
    "dir_1='/media/ashley/project/pair_galaxy/2020_2_5/'"
   ]
  },
  {
   "cell_type": "code",
   "execution_count": null,
   "metadata": {},
   "outputs": [],
   "source": []
  },
  {
   "cell_type": "code",
   "execution_count": null,
   "metadata": {},
   "outputs": [],
   "source": []
  },
  {
   "cell_type": "code",
   "execution_count": null,
   "metadata": {},
   "outputs": [],
   "source": []
  },
  {
   "cell_type": "code",
   "execution_count": null,
   "metadata": {},
   "outputs": [],
   "source": []
  },
  {
   "cell_type": "code",
   "execution_count": null,
   "metadata": {},
   "outputs": [],
   "source": []
  },
  {
   "cell_type": "code",
   "execution_count": null,
   "metadata": {},
   "outputs": [],
   "source": []
  }
 ],
 "metadata": {
  "kernelspec": {
   "display_name": "Python 3",
   "language": "python",
   "name": "python3"
  },
  "language_info": {
   "codemirror_mode": {
    "name": "ipython",
    "version": 3
   },
   "file_extension": ".py",
   "mimetype": "text/x-python",
   "name": "python",
   "nbconvert_exporter": "python",
   "pygments_lexer": "ipython3",
   "version": "3.7.3"
  },
  "toc": {
   "base_numbering": 1,
   "nav_menu": {},
   "number_sections": true,
   "sideBar": true,
   "skip_h1_title": false,
   "title_cell": "Table of Contents",
   "title_sidebar": "Contents",
   "toc_cell": false,
   "toc_position": {},
   "toc_section_display": true,
   "toc_window_display": true
  },
  "varInspector": {
   "cols": {
    "lenName": 16,
    "lenType": 16,
    "lenVar": 40
   },
   "kernels_config": {
    "python": {
     "delete_cmd_postfix": "",
     "delete_cmd_prefix": "del ",
     "library": "var_list.py",
     "varRefreshCmd": "print(var_dic_list())"
    },
    "r": {
     "delete_cmd_postfix": ") ",
     "delete_cmd_prefix": "rm(",
     "library": "var_list.r",
     "varRefreshCmd": "cat(var_dic_list()) "
    }
   },
   "types_to_exclude": [
    "module",
    "function",
    "builtin_function_or_method",
    "instance",
    "_Feature"
   ],
   "window_display": false
  }
 },
 "nbformat": 4,
 "nbformat_minor": 2
}
