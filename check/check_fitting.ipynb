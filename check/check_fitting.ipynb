{
 "cells": [
  {
   "cell_type": "markdown",
   "metadata": {},
   "source": [
    "# check fitting "
   ]
  },
  {
   "cell_type": "markdown",
   "metadata": {},
   "source": [
    "## fitting is finished or not"
   ]
  },
  {
   "cell_type": "code",
   "execution_count": 23,
   "metadata": {
    "ExecuteTime": {
     "end_time": "2019-12-27T05:50:19.201151Z",
     "start_time": "2019-12-27T05:50:18.330211Z"
    }
   },
   "outputs": [
    {
     "name": "stdout",
     "output_type": "stream",
     "text": [
      "ppxf_zoom_v2.jpg :  6467\n",
      "ppxf.jpg :  6467\n",
      "con_goodpixel :  6467\n",
      "con_v2 :  6467\n",
      "emission :  5861\n",
      "show :  5861\n",
      "snr_em :  6467\n",
      "txt_all :  6470\n"
     ]
    }
   ],
   "source": [
    "dir1='/Users/astro/Documents/notebooks/zs/stack/3arcsec/fitting/'\n",
    "import glob\n",
    "import numpy as np\n",
    "\n",
    "f_ppxfzoom_v2=glob.glob(dir1+'*-ppxf-zoom_v2.jpg')\n",
    "f_ppxf=glob.glob(dir1+'*-ppxf.jpg')\n",
    "f_con_goodpixel=glob.glob(dir1+'*_con_goodpixel.fits')\n",
    "f_con_v2=glob.glob(dir1+'*_con_v2.fits')\n",
    "f_emission=glob.glob(dir1+'*_emission.jpg')\n",
    "f_show=glob.glob(dir1+'*_show.jpg')\n",
    "f_snr_em=glob.glob(dir1+'*_snr_em.jpg')\n",
    "f_txt_all=glob.glob(dir1+'*txt')\n",
    "\n",
    "print('ppxf_zoom_v2.jpg : ',len(f_ppxfzoom_v2))\n",
    "print('ppxf.jpg : ',len(f_ppxf))\n",
    "print('con_goodpixel : ',len(f_con_goodpixel))\n",
    "print('con_v2 : ',len(f_con_v2))\n",
    "print('emission : ',len(f_emission))\n",
    "print('show : ',len(f_show))\n",
    "print('snr_em : ',len(f_snr_em))\n",
    "print('txt_all : ',len(f_txt_all))\n",
    "\n",
    "p_ppxfzoom_v2=[n[len(dir1):-len('-ppxf-zoom_v2.jpg')] for n in f_ppxfzoom_v2]\n",
    "p_ppxf=[n[len(dir1):-len('-ppxf.jpg')] for n in f_ppxf]\n",
    "p_con_goodpixel=[n[len(dir1):-len('_con_goodpixel.fits')] for n in f_con_goodpixel]\n",
    "p_con_v2=[n[len(dir1):-len('_con_v2.fits')] for n in f_con_v2]\n",
    "p_emission=[n[len(dir1):-len('_emission.jpg')] for n in f_emission]\n",
    "p_show=[n[len(dir1):-len('_show.jpg')] for n in f_show]\n",
    "p_snr_em=[n[len(dir1):-len('_snr_em.jpg')] for n in f_snr_em]\n",
    "p_txt_all=[n[len(dir1):-len('txt')] for n in f_txt_all]\n",
    "\n",
    "\n",
    "    "
   ]
  },
  {
   "cell_type": "markdown",
   "metadata": {},
   "source": [
    "最终是拟合了6467个光谱、 但是其实有6500个stack之后的数据，其中32个是红移数据<0;\n"
   ]
  },
  {
   "cell_type": "markdown",
   "metadata": {},
   "source": [
    "其中有1个出现了Assertion error ： 8239-3701 \n"
   ]
  },
  {
   "cell_type": "code",
   "execution_count": 24,
   "metadata": {
    "ExecuteTime": {
     "end_time": "2019-12-27T05:50:19.214564Z",
     "start_time": "2019-12-27T05:50:19.204174Z"
    }
   },
   "outputs": [
    {
     "data": {
      "text/plain": [
       "True"
      ]
     },
     "execution_count": 24,
     "metadata": {},
     "output_type": "execute_result"
    }
   ],
   "source": [
    "p_ppxf=np.array(p_ppxf)\n",
    "# np.equal(np.array(p_ppxfzoom_v2),np.array(p_ppxf))\n",
    "p_ppxfzoom_v2=np.array(p_ppxfzoom_v2)\n",
    "np.array_equal(p_ppxf,p_ppxfzoom_v2)\n",
    "# p_ppxfzoom_v2"
   ]
  },
  {
   "cell_type": "code",
   "execution_count": 25,
   "metadata": {
    "ExecuteTime": {
     "end_time": "2019-12-27T05:50:19.224582Z",
     "start_time": "2019-12-27T05:50:19.217514Z"
    }
   },
   "outputs": [
    {
     "data": {
      "text/plain": [
       "True"
      ]
     },
     "execution_count": 25,
     "metadata": {},
     "output_type": "execute_result"
    }
   ],
   "source": [
    "np.array_equal(p_ppxf,np.array(p_con_goodpixel))"
   ]
  },
  {
   "cell_type": "code",
   "execution_count": 26,
   "metadata": {
    "ExecuteTime": {
     "end_time": "2019-12-27T05:50:19.250251Z",
     "start_time": "2019-12-27T05:50:19.227604Z"
    }
   },
   "outputs": [
    {
     "data": {
      "text/plain": [
       "True"
      ]
     },
     "execution_count": 26,
     "metadata": {},
     "output_type": "execute_result"
    }
   ],
   "source": [
    "np.array_equal(np.array(p_con_goodpixel),np.array(p_con_v2))"
   ]
  },
  {
   "cell_type": "code",
   "execution_count": 27,
   "metadata": {
    "ExecuteTime": {
     "end_time": "2019-12-27T05:50:19.261717Z",
     "start_time": "2019-12-27T05:50:19.252670Z"
    }
   },
   "outputs": [
    {
     "data": {
      "text/plain": [
       "True"
      ]
     },
     "execution_count": 27,
     "metadata": {},
     "output_type": "execute_result"
    }
   ],
   "source": [
    "np.array_equal(np.array(p_con_v2),np.array(p_snr_em))"
   ]
  },
  {
   "cell_type": "code",
   "execution_count": 28,
   "metadata": {
    "ExecuteTime": {
     "end_time": "2019-12-27T05:50:19.272838Z",
     "start_time": "2019-12-27T05:50:19.264490Z"
    }
   },
   "outputs": [
    {
     "data": {
      "text/plain": [
       "True"
      ]
     },
     "execution_count": 28,
     "metadata": {},
     "output_type": "execute_result"
    }
   ],
   "source": [
    "np.array_equal(np.array(p_emission),np.array(p_show))"
   ]
  },
  {
   "cell_type": "code",
   "execution_count": null,
   "metadata": {},
   "outputs": [],
   "source": []
  },
  {
   "cell_type": "code",
   "execution_count": null,
   "metadata": {},
   "outputs": [],
   "source": []
  },
  {
   "cell_type": "code",
   "execution_count": null,
   "metadata": {},
   "outputs": [],
   "source": []
  },
  {
   "cell_type": "code",
   "execution_count": null,
   "metadata": {},
   "outputs": [],
   "source": []
  }
 ],
 "metadata": {
  "hide_input": false,
  "kernelspec": {
   "display_name": "Python 3",
   "language": "python",
   "name": "python3"
  },
  "language_info": {
   "codemirror_mode": {
    "name": "ipython",
    "version": 3
   },
   "file_extension": ".py",
   "mimetype": "text/x-python",
   "name": "python",
   "nbconvert_exporter": "python",
   "pygments_lexer": "ipython3",
   "version": "3.7.2"
  },
  "nbTranslate": {
   "displayLangs": [
    "*"
   ],
   "hotkey": "alt-t",
   "langInMainMenu": true,
   "sourceLang": "en",
   "targetLang": "fr",
   "useGoogleTranslate": true
  },
  "toc": {
   "base_numbering": 1,
   "nav_menu": {},
   "number_sections": true,
   "sideBar": true,
   "skip_h1_title": false,
   "title_cell": "Table of Contents",
   "title_sidebar": "Contents",
   "toc_cell": false,
   "toc_position": {},
   "toc_section_display": true,
   "toc_window_display": false
  },
  "varInspector": {
   "cols": {
    "lenName": 16,
    "lenType": 16,
    "lenVar": 40
   },
   "kernels_config": {
    "python": {
     "delete_cmd_postfix": "",
     "delete_cmd_prefix": "del ",
     "library": "var_list.py",
     "varRefreshCmd": "print(var_dic_list())"
    },
    "r": {
     "delete_cmd_postfix": ") ",
     "delete_cmd_prefix": "rm(",
     "library": "var_list.r",
     "varRefreshCmd": "cat(var_dic_list()) "
    }
   },
   "types_to_exclude": [
    "module",
    "function",
    "builtin_function_or_method",
    "instance",
    "_Feature"
   ],
   "window_display": false
  }
 },
 "nbformat": 4,
 "nbformat_minor": 2
}
