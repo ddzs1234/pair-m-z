{
 "cells": [
  {
   "cell_type": "code",
   "execution_count": 59,
   "metadata": {
    "ExecuteTime": {
     "end_time": "2019-11-11T04:57:18.989139Z",
     "start_time": "2019-11-11T04:57:17.589795Z"
    }
   },
   "outputs": [
    {
     "data": {
      "image/png": "[encoded data removed]",
      "text/plain": [
       "<Figure size 432x288 with 1 Axes>"
      ]
     },
     "metadata": {
      "needs_background": "light"
     },
     "output_type": "display_data"
    }
   ],
   "source": [
    "import matplotlib.pyplot as plt\n",
    "from astropy.io import fits\n",
    "from astropy.table import Table\n",
    "\n",
    "def bpt(OIII,Hb,NII,Ha):\n",
    "    x=np.log10(NII/Ha)\n",
    "    y=np.log10(OIII/Hb)\n",
    "#     if y>0.61/(x-0.05)+1.3:\n",
    "#         print('AGN')\n",
    "#     elif y<=0.61/(x-0.05)+1.3 and y>0.61/(x-0.47)+1.19:\n",
    "#         print('composite')\n",
    "#     elif y<=0.61/(x-0.47)+1.19：\n",
    "#         print('sf')\n",
    "    \n",
    "    \n",
    "def plot_bpt():\n",
    "    f_kd02='/Users/astro/Documents/notebooks/zs/2019-10-18/1.0re_1/res/z_kd02_10_25.fits'\n",
    "    f_z925='/Users/astro/Documents/notebooks/zs/pair-m-z/z_9_25.txt'\n",
    "    with fits.open(f_kd02) as f:\n",
    "        data=f[1].data\n",
    "        plateifu=data['PLATEIFU']\n",
    "        NII=data['NII']\n",
    "        OIII=data['OIII']\n",
    "        Ha=data['Halpha']\n",
    "        Hb=data['Hbeta']\n",
    "        \n",
    "        x=[]\n",
    "        y=[]\n",
    "        t=Table.read(f_z925,format='ascii')\n",
    "        for i in t['plateifu']:\n",
    "            index=np.where(plateifu==i)[0]\n",
    "            x1=np.log10(NII[index]/Ha[index])\n",
    "            y1=np.log10(OIII[index]/Hb[index])\n",
    "            \n",
    "            x.extend(x1)\n",
    "            y.extend(y1)\n",
    "        \n",
    "         \n",
    "        plt.figure()\n",
    "        plt.scatter(x,y,s=3,color='orange',label='z_do2>9.25')\n",
    "        x_bpt=np.arange(-1.2,0.2,0.02)\n",
    "        y_bpt=0.61/(x_bpt-0.47)+1.19\n",
    "        x_bpt1=np.arange(-1.1,-0.2,0.02)\n",
    "        y_bpt1=0.61/(x_bpt1-0.05)+1.3\n",
    "        plt.plot(x_bpt1,y_bpt1,\"k:\")\n",
    "        plt.plot(x_bpt,y_bpt,'r')\n",
    "        \n",
    "        \n",
    "        x_normal=[]\n",
    "        y_normal=[]\n",
    "        pifu=np.setdiff1d(plateifu,t['plateifu'])\n",
    "        for j in pifu:\n",
    "            index_1=np.where(plateifu==j)[0]\n",
    "            x_normal.extend(np.log10(NII[index_1]/Ha[index_1]))\n",
    "            y_normal.extend(np.log10(OIII[index_1]/Hb[index_1]))\n",
    "            \n",
    "        # pick up SF\n",
    "        \n",
    "        mask=(np.array(y_normal)<=0.61/(np.array(x_normal)-0.05)+1.3)&(np.array(x_normal)<0)\n",
    "        \n",
    "        pifu_sf=pifu[mask]\n",
    "        x_sf=np.array(x_normal)[mask]\n",
    "        y_sf=np.array(y_normal)[mask]\n",
    "            \n",
    "        plt.scatter(x_normal,y_normal,color='grey',s=2)\n",
    "        plt.scatter(x_sf,y_sf,color='dodgerblue',s=2)\n",
    "        plt.xlabel('log(NII/Ha)')\n",
    "        plt.ylabel('log([OIII]/Hb)')\n",
    "            \n",
    "        plt.show()\n",
    "        \n",
    "        t=Table([pifu_sf.T],names=['plateifu'])\n",
    "        t.write('/Users/astro/Documents/notebooks/zs/pair-m-z/plateifu_sf.fits')\n",
    "        # 1085\n",
    "    \n",
    "if __name__=='__main__':\n",
    "    plot_bpt()\n"
   ]
  },
  {
   "cell_type": "code",
   "execution_count": 5,
   "metadata": {
    "ExecuteTime": {
     "end_time": "2019-11-11T02:48:13.225097Z",
     "start_time": "2019-11-11T02:48:13.211416Z"
    }
   },
   "outputs": [
    {
     "ename": "NameError",
     "evalue": "name 'x' is not defined",
     "output_type": "error",
     "traceback": [
      "\u001b[0;31m---------------------------------------------------------------------------\u001b[0m",
      "\u001b[0;31mNameError\u001b[0m                                 Traceback (most recent call last)",
      "\u001b[0;32m<ipython-input-5-6fcf9dfbd479>\u001b[0m in \u001b[0;36m<module>\u001b[0;34m\u001b[0m\n\u001b[0;32m----> 1\u001b[0;31m \u001b[0mx\u001b[0m\u001b[0;34m\u001b[0m\u001b[0;34m\u001b[0m\u001b[0m\n\u001b[0m",
      "\u001b[0;31mNameError\u001b[0m: name 'x' is not defined"
     ]
    }
   ],
   "source": []
  },
  {
   "cell_type": "code",
   "execution_count": 55,
   "metadata": {
    "ExecuteTime": {
     "end_time": "2019-11-11T04:55:35.466674Z",
     "start_time": "2019-11-11T04:55:35.454815Z"
    }
   },
   "outputs": [
    {
     "ename": "NameError",
     "evalue": "name 'pifu_sf' is not defined",
     "output_type": "error",
     "traceback": [
      "\u001b[0;31m---------------------------------------------------------------------------\u001b[0m",
      "\u001b[0;31mNameError\u001b[0m                                 Traceback (most recent call last)",
      "\u001b[0;32m<ipython-input-55-03c26c5c005d>\u001b[0m in \u001b[0;36m<module>\u001b[0;34m\u001b[0m\n\u001b[0;32m----> 1\u001b[0;31m \u001b[0mnp\u001b[0m\u001b[0;34m.\u001b[0m\u001b[0marray\u001b[0m\u001b[0;34m(\u001b[0m\u001b[0mpifu_sf\u001b[0m\u001b[0;34m)\u001b[0m\u001b[0;34m\u001b[0m\u001b[0;34m\u001b[0m\u001b[0m\n\u001b[0m",
      "\u001b[0;31mNameError\u001b[0m: name 'pifu_sf' is not defined"
     ]
    }
   ],
   "source": [
    "np.array(pifu_sf)"
   ]
  },
  {
   "cell_type": "code",
   "execution_count": null,
   "metadata": {},
   "outputs": [],
   "source": []
  },
  {
   "cell_type": "code",
   "execution_count": null,
   "metadata": {},
   "outputs": [],
   "source": []
  },
  {
   "cell_type": "code",
   "execution_count": null,
   "metadata": {},
   "outputs": [],
   "source": []
  },
  {
   "cell_type": "code",
   "execution_count": null,
   "metadata": {},
   "outputs": [],
   "source": []
  }
 ],
 "metadata": {
  "hide_input": false,
  "kernelspec": {
   "display_name": "Python 3",
   "language": "python",
   "name": "python3"
  },
  "language_info": {
   "codemirror_mode": {
    "name": "ipython",
    "version": 3
   },
   "file_extension": ".py",
   "mimetype": "text/x-python",
   "name": "python",
   "nbconvert_exporter": "python",
   "pygments_lexer": "ipython3",
   "version": "3.7.2"
  },
  "nbTranslate": {
   "displayLangs": [
    "*"
   ],
   "hotkey": "alt-t",
   "langInMainMenu": true,
   "sourceLang": "en",
   "targetLang": "fr",
   "useGoogleTranslate": true
  },
  "toc": {
   "base_numbering": 1,
   "nav_menu": {},
   "number_sections": true,
   "sideBar": true,
   "skip_h1_title": false,
   "title_cell": "Table of Contents",
   "title_sidebar": "Contents",
   "toc_cell": false,
   "toc_position": {},
   "toc_section_display": true,
   "toc_window_display": false
  },
  "varInspector": {
   "cols": {
    "lenName": 16,
    "lenType": 16,
    "lenVar": 40
   },
   "kernels_config": {
    "python": {
     "delete_cmd_postfix": "",
     "delete_cmd_prefix": "del ",
     "library": "var_list.py",
     "varRefreshCmd": "print(var_dic_list())"
    },
    "r": {
     "delete_cmd_postfix": ") ",
     "delete_cmd_prefix": "rm(",
     "library": "var_list.r",
     "varRefreshCmd": "cat(var_dic_list()) "
    }
   },
   "types_to_exclude": [
    "module",
    "function",
    "builtin_function_or_method",
    "instance",
    "_Feature"
   ],
   "window_display": true
  }
 },
 "nbformat": 4,
 "nbformat_minor": 2
}
