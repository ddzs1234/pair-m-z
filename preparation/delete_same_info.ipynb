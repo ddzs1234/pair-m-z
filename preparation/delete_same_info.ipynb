{
 "cells": [
  {
   "cell_type": "code",
   "execution_count": null,
   "metadata": {},
   "outputs": [],
   "source": [
    "dir1 = '/Users/astro/Documents/notebooks/zs/result/2019_04_23_new/2019_04_17_new/'\n",
    "\n",
    "allfile = dir1 + '*all.txt*'\n",
    "emissionfile = dir1 + '*emission_line.txt*'\n",
    "kine = dir1 + '*stellar.txt*'\n",
    "\n",
    "# for f in glob.glob(allfile):\n",
    "#     plateifu=f[73:-8]\n",
    "#     print(plateifu)\n",
    "#     f1=open(f,'r')\n",
    "#     lines=f1.readlines()\n",
    "#     if len(lines)>21:\n",
    "#         print('start')\n",
    "#         a=len(lines)/2\n",
    "#         f2=open('/Users/astro/Documents/notebooks/zs/result/2019_04_23_new/'+str(plateifu)+'_all.txt','a+')\n",
    "#         f2.writelines(lines[:int(a)])\n",
    "#         print('finished')\n",
    "#\n",
    "\n",
    "# for f in glob.glob(emissionfile):\n",
    "#     plateifu = f[73:-18]\n",
    "#     print(plateifu)\n",
    "#     f1 = open(f, 'r')\n",
    "#     lines = f1.readlines()\n",
    "#     if len(lines) > 21:\n",
    "#         print('start')\n",
    "#         a = len(lines) / 2\n",
    "#         f2 = open(\n",
    "#             '/Users/astro/Documents/notebooks/zs/result/2019_04_23_new/' +\n",
    "#             str(plateifu) + '_emission_line.txt', 'a+')\n",
    "#         f2.writelines(lines[:int(a)])\n",
    "#         print('finished')\n",
    "        \n",
    "# for f in glob.glob(kine):\n",
    "#     plateifu = f[73:-12]\n",
    "#     print(plateifu)\n",
    "#     f1 = open(f, 'r')\n",
    "#     lines = f1.readlines()\n",
    "#     if len(lines) > 5:\n",
    "#         print('start')\n",
    "#         a = len(lines) / 2\n",
    "#         f2 = open(\n",
    "#             '/Users/astro/Documents/notebooks/zs/result/2019_04_23_new/' +\n",
    "#             str(plateifu) + '_stellar.txt', 'a+')\n",
    "#         f2.writelines(lines[:int(a)])\n",
    "#         print('finished')"
   ]
  }
 ],
 "metadata": {
  "hide_input": false,
  "kernelspec": {
   "display_name": "Python 3",
   "language": "python",
   "name": "python3"
  },
  "language_info": {
   "codemirror_mode": {
    "name": "ipython",
    "version": 3
   },
   "file_extension": ".py",
   "mimetype": "text/x-python",
   "name": "python",
   "nbconvert_exporter": "python",
   "pygments_lexer": "ipython3",
   "version": "3.7.2"
  },
  "latex_envs": {
   "LaTeX_envs_menu_present": true,
   "autoclose": false,
   "autocomplete": true,
   "bibliofile": "biblio.bib",
   "cite_by": "apalike",
   "current_citInitial": 1,
   "eqLabelWithNumbers": true,
   "eqNumInitial": 1,
   "hotkeys": {
    "equation": "Ctrl-E",
    "itemize": "Ctrl-I"
   },
   "labels_anchors": false,
   "latex_user_defs": false,
   "report_style_numbering": false,
   "user_envs_cfg": false
  },
  "nbTranslate": {
   "displayLangs": [
    "*"
   ],
   "hotkey": "alt-t",
   "langInMainMenu": true,
   "sourceLang": "en",
   "targetLang": "fr",
   "useGoogleTranslate": true
  },
  "toc": {
   "base_numbering": 1,
   "nav_menu": {},
   "number_sections": true,
   "sideBar": true,
   "skip_h1_title": false,
   "title_cell": "Table of Contents",
   "title_sidebar": "Contents",
   "toc_cell": false,
   "toc_position": {},
   "toc_section_display": true,
   "toc_window_display": false
  },
  "varInspector": {
   "cols": {
    "lenName": 16,
    "lenType": 16,
    "lenVar": 40
   },
   "kernels_config": {
    "python": {
     "delete_cmd_postfix": "",
     "delete_cmd_prefix": "del ",
     "library": "var_list.py",
     "varRefreshCmd": "print(var_dic_list())"
    },
    "r": {
     "delete_cmd_postfix": ") ",
     "delete_cmd_prefix": "rm(",
     "library": "var_list.r",
     "varRefreshCmd": "cat(var_dic_list()) "
    }
   },
   "types_to_exclude": [
    "module",
    "function",
    "builtin_function_or_method",
    "instance",
    "_Feature"
   ],
   "window_display": false
  }
 },
 "nbformat": 4,
 "nbformat_minor": 2
}
