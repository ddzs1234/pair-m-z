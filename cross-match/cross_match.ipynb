{
 "cells": [
  {
   "cell_type": "code",
   "execution_count": 127,
   "metadata": {
    "ExecuteTime": {
     "end_time": "2019-11-20T23:48:17.861271Z",
     "start_time": "2019-11-20T23:48:17.856066Z"
    }
   },
   "outputs": [],
   "source": [
    "import numpy as np\n",
    "import os\n",
    "import sys\n",
    "from time import time\n",
    "from astropy.io import fits\n",
    "\n",
    "from matplotlib import pyplot as plt\n",
    "\n",
    "\n",
    "\n",
    "from astropy.cosmology import WMAP9 as cosmo\n",
    "\n",
    "from scipy.spatial import cKDTree"
   ]
  },
  {
   "cell_type": "code",
   "execution_count": 128,
   "metadata": {
    "ExecuteTime": {
     "end_time": "2019-11-20T23:48:17.898536Z",
     "start_time": "2019-11-20T23:48:17.890895Z"
    }
   },
   "outputs": [],
   "source": [
    "def crossmatch(X1, X2, max_distance=np.inf):\n",
    "\n",
    "    X1 = np.asarray(X1, dtype=float)\n",
    "    X2 = np.asarray(X2, dtype=float)\n",
    "\n",
    "    N1, D = X1.shape\n",
    "    N2, D2 = X2.shape\n",
    "\n",
    "    if D != D2:\n",
    "        raise ValueError('Arrays must have the same second dimension')\n",
    "\n",
    "    kdt = cKDTree(X2)\n",
    "    \n",
    "    dist, ind = kdt.query(X1,k=10, distance_upper_bound=max_distance)\n",
    "\n",
    "    return dist, ind"
   ]
  },
  {
   "cell_type": "code",
   "execution_count": 129,
   "metadata": {
    "ExecuteTime": {
     "end_time": "2019-11-20T23:48:17.941318Z",
     "start_time": "2019-11-20T23:48:17.926343Z"
    }
   },
   "outputs": [],
   "source": [
    "def crossmatch_angular(X1, X2, max_distance):\n",
    "    \n",
    "    X1 = X1 * (np.pi / 180.)\n",
    "    X2 = X2 * (np.pi / 180.)\n",
    "    max_distance = max_distance * (np.pi / 180.)\n",
    "\n",
    "    # Convert 2D RA/DEC to 3D cartesian coordinates\n",
    "    Y1 = np.transpose(np.vstack([np.cos(X1[0]) * np.cos(X1[1]),\n",
    "                                 np.sin(X1[0]) * np.cos(X1[1]),\n",
    "                                 np.sin(X1[1])]))\n",
    "    Y2 = np.transpose(np.vstack([np.cos(X2[:, 0]) * np.cos(X2[:, 1]),\n",
    "                                 np.sin(X2[:, 0]) * np.cos(X2[:, 1]),\n",
    "                                 np.sin(X2[:, 1])]))\n",
    "\n",
    "    # law of cosines to compute 3D distance\n",
    "    max_y = np.sqrt(2 - 2 * np.cos(max_distance))\n",
    "    dist, ind = crossmatch(Y1, Y2, max_y)\n",
    "\n",
    "    # convert distances back to angles using the law of tangents\n",
    "    not_inf = ~np.isinf(dist)\n",
    "    x = 0.5 * dist[not_inf]\n",
    "    dist[not_inf] = (180. / np.pi * 2 * np.arctan2(x,\n",
    "                                  np.sqrt(np.maximum(0, 1 - x ** 2))))\n",
    "\n",
    "    return dist, ind"
   ]
  },
  {
   "cell_type": "code",
   "execution_count": null,
   "metadata": {},
   "outputs": [],
   "source": []
  },
  {
   "cell_type": "code",
   "execution_count": null,
   "metadata": {},
   "outputs": [],
   "source": []
  },
  {
   "cell_type": "code",
   "execution_count": null,
   "metadata": {
    "ExecuteTime": {
     "start_time": "2019-11-20T23:48:18.029Z"
    },
    "run_control": {
     "marked": true
    }
   },
   "outputs": [
    {
     "name": "stderr",
     "output_type": "stream",
     "text": [
      "/Users/astro/.local/miniconda3/envs/public/lib/python3.7/site-packages/astropy/cosmology/core.py:1251: IntegrationWarning: The occurrence of roundoff error is detected, which prevents \n",
      "  the requested tolerance from being achieved.  The error may be \n",
      "  underestimated.\n",
      "  args=self._inv_efunc_scalar_args)[0]\n"
     ]
    }
   ],
   "source": [
    "def r2arcsec(r):\n",
    "    return r * 180 / np.pi\n",
    "\n",
    "\n",
    "dir_drp = '/Users/astro/Documents/notebooks/manga/spectro/analysis/MPL-8/drpall-v2_5_3.fits'\n",
    "dir_dr7 = '/Users/astro/Documents/notebooks/zs/pair-m-z/gal_info_dr7_v5_2.fit'\n",
    "dir_indo= '/Users/astro/Documents/notebooks/zs/pair-m-z/cross-match_query_k_10.txt'\n",
    "with fits.open(dir_drp) as f_drp, fits.open(dir_dr7) as f_dr7,open(dir_indo,'a+') as f:\n",
    "    data = f_drp[1].data\n",
    "\n",
    "    manga = np.empty((len(data), 2), dtype=np.float64)\n",
    "    manga[:, 0] = data['objra']\n",
    "    manga[:, 1] = data['objdec']\n",
    "    manga_z = data['z']\n",
    "    plateifu=data['plateifu']\n",
    "\n",
    "    data1 = f_dr7[1].data\n",
    "    dr7 = np.empty((len(data1), 2), dtype=np.float64)\n",
    "    dr7[:, 0] = data1['RA']\n",
    "    dr7[:, 1] = data1['DEC']\n",
    "    dr7_z = data1['Z']\n",
    "\n",
    "    for i in range(0, len(manga)):\n",
    "        z = manga_z[i]\n",
    "        dis = cosmo.comoving_distance(z)  # Mpc\n",
    "        r = 0.15 / dis.value\n",
    "        max_r = r2arcsec(r)  # degree\n",
    "\n",
    "        dist, ind = crossmatch_angular(manga[i], dr7, max_r)\n",
    "        match = ~np.isinf(dist)\n",
    "        dist_match = dist[match]\n",
    "        \n",
    "        print(plateifu[i],manga[i],z,dr7[ind-1],dr7_z[ind-1],file=f)"
   ]
  },
  {
   "cell_type": "code",
   "execution_count": null,
   "metadata": {
    "ExecuteTime": {
     "start_time": "2019-11-20T23:48:18.062Z"
    }
   },
   "outputs": [],
   "source": [
    "# from PyAstronomy import pyasl"
   ]
  },
  {
   "cell_type": "code",
   "execution_count": null,
   "metadata": {
    "ExecuteTime": {
     "start_time": "2019-11-20T23:48:18.082Z"
    }
   },
   "outputs": [],
   "source": [
    "# pyasl.getAngDist(133.37095642,57.59861755,133.37109061,57.59842514)"
   ]
  },
  {
   "cell_type": "code",
   "execution_count": null,
   "metadata": {
    "ExecuteTime": {
     "end_time": "2019-11-20T11:10:29.337283Z",
     "start_time": "2019-11-20T11:10:29.325321Z"
    }
   },
   "outputs": [],
   "source": []
  },
  {
   "cell_type": "code",
   "execution_count": null,
   "metadata": {
    "ExecuteTime": {
     "start_time": "2019-11-20T23:48:18.120Z"
    }
   },
   "outputs": [],
   "source": [
    "# a"
   ]
  },
  {
   "cell_type": "code",
   "execution_count": 152,
   "metadata": {
    "ExecuteTime": {
     "end_time": "2019-11-21T15:15:00.681380Z",
     "start_time": "2019-11-21T15:15:00.676990Z"
    }
   },
   "outputs": [],
   "source": [
    "from astropy import units as u\n",
    "from astropy.coordinates import Distance\n",
    "\n",
    "d=Distance(z=0.15)"
   ]
  },
  {
   "cell_type": "code",
   "execution_count": 153,
   "metadata": {
    "ExecuteTime": {
     "end_time": "2019-11-21T15:15:02.182069Z",
     "start_time": "2019-11-21T15:15:02.175776Z"
    }
   },
   "outputs": [
    {
     "data": {
      "text/latex": [
       "$736.22629 \\; \\mathrm{Mpc}$"
      ],
      "text/plain": [
       "<Distance 736.22628844 Mpc>"
      ]
     },
     "execution_count": 153,
     "metadata": {},
     "output_type": "execute_result"
    }
   ],
   "source": [
    "d"
   ]
  },
  {
   "cell_type": "code",
   "execution_count": 154,
   "metadata": {
    "ExecuteTime": {
     "end_time": "2019-11-21T15:15:03.639783Z",
     "start_time": "2019-11-21T15:15:03.635888Z"
    }
   },
   "outputs": [],
   "source": [
    "arc=3*np.pi/(3600*180)"
   ]
  },
  {
   "cell_type": "code",
   "execution_count": 155,
   "metadata": {
    "ExecuteTime": {
     "end_time": "2019-11-21T15:15:06.383117Z",
     "start_time": "2019-11-21T15:15:06.377886Z"
    }
   },
   "outputs": [
    {
     "data": {
      "text/plain": [
       "1.4544410433286079e-05"
      ]
     },
     "execution_count": 155,
     "metadata": {},
     "output_type": "execute_result"
    }
   ],
   "source": [
    "arc"
   ]
  },
  {
   "cell_type": "code",
   "execution_count": 156,
   "metadata": {
    "ExecuteTime": {
     "end_time": "2019-11-21T15:15:07.923832Z",
     "start_time": "2019-11-21T15:15:07.917610Z"
    }
   },
   "outputs": [
    {
     "data": {
      "text/latex": [
       "$0.021415955 \\; \\mathrm{Mpc}$"
      ],
      "text/plain": [
       "<Distance 0.02141595 Mpc>"
      ]
     },
     "execution_count": 156,
     "metadata": {},
     "output_type": "execute_result"
    }
   ],
   "source": [
    "d*arc*2"
   ]
  },
  {
   "cell_type": "code",
   "execution_count": 148,
   "metadata": {
    "ExecuteTime": {
     "end_time": "2019-11-21T15:08:46.880113Z",
     "start_time": "2019-11-21T15:08:46.858324Z"
    }
   },
   "outputs": [
    {
     "data": {
      "text/plain": [
       "687.55"
      ]
     },
     "execution_count": 148,
     "metadata": {},
     "output_type": "execute_result"
    }
   ],
   "source": [
    "206265/300"
   ]
  },
  {
   "cell_type": "code",
   "execution_count": null,
   "metadata": {},
   "outputs": [],
   "source": []
  }
 ],
 "metadata": {
  "hide_input": false,
  "kernelspec": {
   "display_name": "Python 3",
   "language": "python",
   "name": "python3"
  },
  "language_info": {
   "codemirror_mode": {
    "name": "ipython",
    "version": 3
   },
   "file_extension": ".py",
   "mimetype": "text/x-python",
   "name": "python",
   "nbconvert_exporter": "python",
   "pygments_lexer": "ipython3",
   "version": "3.7.2"
  },
  "nbTranslate": {
   "displayLangs": [
    "*"
   ],
   "hotkey": "alt-t",
   "langInMainMenu": true,
   "sourceLang": "en",
   "targetLang": "fr",
   "useGoogleTranslate": true
  },
  "toc": {
   "base_numbering": 1,
   "nav_menu": {},
   "number_sections": true,
   "sideBar": true,
   "skip_h1_title": false,
   "title_cell": "Table of Contents",
   "title_sidebar": "Contents",
   "toc_cell": false,
   "toc_position": {},
   "toc_section_display": true,
   "toc_window_display": false
  },
  "varInspector": {
   "cols": {
    "lenName": 16,
    "lenType": 16,
    "lenVar": 40
   },
   "kernels_config": {
    "python": {
     "delete_cmd_postfix": "",
     "delete_cmd_prefix": "del ",
     "library": "var_list.py",
     "varRefreshCmd": "print(var_dic_list())"
    },
    "r": {
     "delete_cmd_postfix": ") ",
     "delete_cmd_prefix": "rm(",
     "library": "var_list.r",
     "varRefreshCmd": "cat(var_dic_list()) "
    }
   },
   "types_to_exclude": [
    "module",
    "function",
    "builtin_function_or_method",
    "instance",
    "_Feature"
   ],
   "window_display": false
  }
 },
 "nbformat": 4,
 "nbformat_minor": 2
}
