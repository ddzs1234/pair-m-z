{
 "cells": [
  {
   "cell_type": "markdown",
   "metadata": {},
   "source": [
    "# DR7&MPL8"
   ]
  },
  {
   "cell_type": "code",
   "execution_count": 35,
   "metadata": {
    "ExecuteTime": {
     "end_time": "2019-11-25T14:42:31.196296Z",
     "start_time": "2019-11-25T14:42:31.105438Z"
    }
   },
   "outputs": [
    {
     "name": "stdout",
     "output_type": "stream",
     "text": [
      "The autoreload extension is already loaded. To reload it, use:\n",
      "  %reload_ext autoreload\n"
     ]
    }
   ],
   "source": [
    "%load_ext autoreload\n",
    "%autoreload 2"
   ]
  },
  {
   "cell_type": "code",
   "execution_count": 48,
   "metadata": {
    "ExecuteTime": {
     "end_time": "2019-11-25T16:00:33.111498Z",
     "start_time": "2019-11-25T16:00:31.305873Z"
    },
    "scrolled": false
   },
   "outputs": [
    {
     "name": "stdout",
     "output_type": "stream",
     "text": [
      "1519 [62.55180236 -4.98373809]\n",
      "8158-3703\n"
     ]
    },
    {
     "ename": "ValueError",
     "evalue": "zero-size array to reduction operation maximum which has no identity",
     "output_type": "error",
     "traceback": [
      "\u001b[0;31m---------------------\u001b[0m",
      "\u001b[0;31mValueError\u001b[0mTraceback (most recent call last)",
      "\u001b[0;32m<ipython-input-48-09219505bf92>\u001b[0m in \u001b[0;36m<module>\u001b[0;34m\u001b[0m\n\u001b[1;32m     37\u001b[0m \u001b[0;32mif\u001b[0m \u001b[0m__name__\u001b[0m \u001b[0;34m==\u001b[0m \u001b[0;34m'__main__'\u001b[0m\u001b[0;34m:\u001b[0m\u001b[0;34m\u001b[0m\u001b[0;34m\u001b[0m\u001b[0m\n\u001b[1;32m     38\u001b[0m \u001b[0;34m\u001b[0m\u001b[0m\n\u001b[0;32m---> 39\u001b[0;31m     \u001b[0mcross\u001b[0m\u001b[0;34m(\u001b[0m\u001b[0;34m)\u001b[0m\u001b[0;34m\u001b[0m\u001b[0;34m\u001b[0m\u001b[0m\n\u001b[0m",
      "\u001b[0;32m<ipython-input-48-09219505bf92>\u001b[0m in \u001b[0;36mcross\u001b[0;34m()\u001b[0m\n\u001b[1;32m     32\u001b[0m         \u001b[0mi\u001b[0m\u001b[0;34m=\u001b[0m\u001b[0mnp\u001b[0m\u001b[0;34m.\u001b[0m\u001b[0mwhere\u001b[0m\u001b[0;34m(\u001b[0m\u001b[0mplateifu\u001b[0m\u001b[0;34m==\u001b[0m\u001b[0;34m'8158-3703'\u001b[0m\u001b[0;34m)\u001b[0m\u001b[0;34m[\u001b[0m\u001b[0;36m0\u001b[0m\u001b[0;34m]\u001b[0m\u001b[0;34m[\u001b[0m\u001b[0;36m0\u001b[0m\u001b[0;34m]\u001b[0m\u001b[0;34m\u001b[0m\u001b[0;34m\u001b[0m\u001b[0m\n\u001b[1;32m     33\u001b[0m         \u001b[0mprint\u001b[0m\u001b[0;34m(\u001b[0m\u001b[0mi\u001b[0m\u001b[0;34m,\u001b[0m\u001b[0mmanga\u001b[0m\u001b[0;34m[\u001b[0m\u001b[0mi\u001b[0m\u001b[0;34m]\u001b[0m\u001b[0;34m)\u001b[0m\u001b[0;34m\u001b[0m\u001b[0;34m\u001b[0m\u001b[0m\n\u001b[0;32m---> 34\u001b[0;31m         \u001b[0mcm\u001b[0m\u001b[0;34m.\u001b[0m\u001b[0mcmatch\u001b[0m\u001b[0;34m(\u001b[0m\u001b[0mplateifu\u001b[0m\u001b[0;34m[\u001b[0m\u001b[0mi\u001b[0m\u001b[0;34m]\u001b[0m\u001b[0;34m,\u001b[0m\u001b[0mmanga\u001b[0m\u001b[0;34m[\u001b[0m\u001b[0mi\u001b[0m\u001b[0;34m]\u001b[0m\u001b[0;34m[\u001b[0m\u001b[0;36m0\u001b[0m\u001b[0;34m]\u001b[0m\u001b[0;34m,\u001b[0m\u001b[0mmanga\u001b[0m\u001b[0;34m[\u001b[0m\u001b[0mi\u001b[0m\u001b[0;34m]\u001b[0m\u001b[0;34m[\u001b[0m\u001b[0;36m1\u001b[0m\u001b[0;34m]\u001b[0m\u001b[0;34m,\u001b[0m\u001b[0mmanga_z\u001b[0m\u001b[0;34m[\u001b[0m\u001b[0mi\u001b[0m\u001b[0;34m]\u001b[0m\u001b[0;34m,\u001b[0m\u001b[0mdr7\u001b[0m\u001b[0;34m,\u001b[0m\u001b[0mdr7_z\u001b[0m\u001b[0;34m,\u001b[0m\u001b[0mdir_res\u001b[0m\u001b[0;34m,\u001b[0m\u001b[0mdir_k_10_not_enough\u001b[0m\u001b[0;34m)\u001b[0m\u001b[0;34m\u001b[0m\u001b[0;34m\u001b[0m\u001b[0m\n\u001b[0m\u001b[1;32m     35\u001b[0m \u001b[0;34m\u001b[0m\u001b[0m\n\u001b[1;32m     36\u001b[0m \u001b[0;34m\u001b[0m\u001b[0m\n",
      "\u001b[0;32m~/Documents/notebooks/zs/pair-m-z_code/cross-match/cross_match.py\u001b[0m in \u001b[0;36m__init__\u001b[0;34m(self, plateifu, manga_ra, manga_dec, manga_z, dr7, dr7_z, dir_res, dir_1)\u001b[0m\n\u001b[1;32m     78\u001b[0m \u001b[0;34m\u001b[0m\u001b[0m\n\u001b[1;32m     79\u001b[0m         \u001b[0mself\u001b[0m\u001b[0;34m.\u001b[0m\u001b[0mmax_dis_deg\u001b[0m\u001b[0;34m(\u001b[0m\u001b[0;34m)\u001b[0m\u001b[0;34m\u001b[0m\u001b[0;34m\u001b[0m\u001b[0m\n\u001b[0;32m---> 80\u001b[0;31m         \u001b[0mself\u001b[0m\u001b[0;34m.\u001b[0m\u001b[0mdis_vel_cut\u001b[0m\u001b[0;34m(\u001b[0m\u001b[0;34m)\u001b[0m\u001b[0;34m\u001b[0m\u001b[0;34m\u001b[0m\u001b[0m\n\u001b[0m\u001b[1;32m     81\u001b[0m \u001b[0;34m\u001b[0m\u001b[0m\n\u001b[1;32m     82\u001b[0m \u001b[0;34m\u001b[0m\u001b[0m\n",
      "\u001b[0;32m~/Documents/notebooks/zs/pair-m-z_code/cross-match/cross_match.py\u001b[0m in \u001b[0;36mdis_vel_cut\u001b[0;34m(self)\u001b[0m\n\u001b[1;32m     97\u001b[0m         \u001b[0mmanga\u001b[0m\u001b[0;34m=\u001b[0m\u001b[0mnp\u001b[0m\u001b[0;34m.\u001b[0m\u001b[0marray\u001b[0m\u001b[0;34m(\u001b[0m\u001b[0;34m[\u001b[0m\u001b[0mself\u001b[0m\u001b[0;34m.\u001b[0m\u001b[0mm_ra\u001b[0m\u001b[0;34m,\u001b[0m\u001b[0mself\u001b[0m\u001b[0;34m.\u001b[0m\u001b[0mm_dec\u001b[0m\u001b[0;34m]\u001b[0m\u001b[0;34m,\u001b[0m\u001b[0mdtype\u001b[0m\u001b[0;34m=\u001b[0m\u001b[0mnp\u001b[0m\u001b[0;34m.\u001b[0m\u001b[0mfloat64\u001b[0m\u001b[0;34m)\u001b[0m\u001b[0;34m\u001b[0m\u001b[0;34m\u001b[0m\u001b[0m\n\u001b[1;32m     98\u001b[0m         \u001b[0mprint\u001b[0m\u001b[0;34m(\u001b[0m\u001b[0mself\u001b[0m\u001b[0;34m.\u001b[0m\u001b[0mplateifu\u001b[0m\u001b[0;34m)\u001b[0m\u001b[0;34m\u001b[0m\u001b[0;34m\u001b[0m\u001b[0m\n\u001b[0;32m---> 99\u001b[0;31m         \u001b[0mdist\u001b[0m\u001b[0;34m,\u001b[0m \u001b[0mind\u001b[0m \u001b[0;34m=\u001b[0m \u001b[0mcrossmatch_angular\u001b[0m\u001b[0;34m(\u001b[0m\u001b[0mmanga\u001b[0m\u001b[0;34m,\u001b[0m \u001b[0mself\u001b[0m\u001b[0;34m.\u001b[0m\u001b[0mdr7\u001b[0m\u001b[0;34m,\u001b[0m \u001b[0mself\u001b[0m\u001b[0;34m.\u001b[0m\u001b[0mmax_r\u001b[0m\u001b[0;34m,\u001b[0m\u001b[0;36m10\u001b[0m\u001b[0;34m)\u001b[0m\u001b[0;34m\u001b[0m\u001b[0;34m\u001b[0m\u001b[0m\n\u001b[0m\u001b[1;32m    100\u001b[0m         \u001b[0mmatch\u001b[0m \u001b[0;34m=\u001b[0m \u001b[0;34m~\u001b[0m\u001b[0mnp\u001b[0m\u001b[0;34m.\u001b[0m\u001b[0misinf\u001b[0m\u001b[0;34m(\u001b[0m\u001b[0mdist\u001b[0m\u001b[0;34m)\u001b[0m\u001b[0;34m\u001b[0m\u001b[0;34m\u001b[0m\u001b[0m\n\u001b[1;32m    101\u001b[0m         \u001b[0mdist_match\u001b[0m \u001b[0;34m=\u001b[0m \u001b[0mdist\u001b[0m\u001b[0;34m[\u001b[0m\u001b[0mmatch\u001b[0m\u001b[0;34m]\u001b[0m\u001b[0;34m\u001b[0m\u001b[0;34m\u001b[0m\u001b[0m\n",
      "\u001b[0;32m~/Documents/notebooks/zs/pair-m-z_code/cross-match/cross_match.py\u001b[0m in \u001b[0;36mcrossmatch_angular\u001b[0;34m(X1, X2, K, max_distance)\u001b[0m\n\u001b[1;32m     49\u001b[0m     \u001b[0;31m# law of cosines to compute 3D distance\u001b[0m\u001b[0;34m\u001b[0m\u001b[0;34m\u001b[0m\u001b[0;34m\u001b[0m\u001b[0m\n\u001b[1;32m     50\u001b[0m     \u001b[0mmax_y\u001b[0m \u001b[0;34m=\u001b[0m \u001b[0mnp\u001b[0m\u001b[0;34m.\u001b[0m\u001b[0msqrt\u001b[0m\u001b[0;34m(\u001b[0m\u001b[0;36m2\u001b[0m \u001b[0;34m-\u001b[0m \u001b[0;36m2\u001b[0m \u001b[0;34m*\u001b[0m \u001b[0mnp\u001b[0m\u001b[0;34m.\u001b[0m\u001b[0mcos\u001b[0m\u001b[0;34m(\u001b[0m\u001b[0mmax_distance\u001b[0m\u001b[0;34m)\u001b[0m\u001b[0;34m)\u001b[0m\u001b[0;34m\u001b[0m\u001b[0;34m\u001b[0m\u001b[0m\n\u001b[0;32m---> 51\u001b[0;31m     \u001b[0mdist\u001b[0m\u001b[0;34m,\u001b[0m \u001b[0mind\u001b[0m \u001b[0;34m=\u001b[0m \u001b[0mcrossmatch\u001b[0m\u001b[0;34m(\u001b[0m\u001b[0mY1\u001b[0m\u001b[0;34m,\u001b[0m \u001b[0mY2\u001b[0m\u001b[0;34m,\u001b[0m\u001b[0mK\u001b[0m\u001b[0;34m,\u001b[0m \u001b[0mmax_y\u001b[0m\u001b[0;34m)\u001b[0m\u001b[0;34m\u001b[0m\u001b[0;34m\u001b[0m\u001b[0m\n\u001b[0m\u001b[1;32m     52\u001b[0m \u001b[0;34m\u001b[0m\u001b[0m\n\u001b[1;32m     53\u001b[0m     \u001b[0;31m# convert distances back to angles using the law of tangents\u001b[0m\u001b[0;34m\u001b[0m\u001b[0;34m\u001b[0m\u001b[0;34m\u001b[0m\u001b[0m\n",
      "\u001b[0;32m~/Documents/notebooks/zs/pair-m-z_code/cross-match/cross_match.py\u001b[0m in \u001b[0;36mcrossmatch\u001b[0;34m(X1, X2, K, max_distance)\u001b[0m\n\u001b[1;32m     29\u001b[0m     \u001b[0mkdt\u001b[0m \u001b[0;34m=\u001b[0m \u001b[0mcKDTree\u001b[0m\u001b[0;34m(\u001b[0m\u001b[0mX2\u001b[0m\u001b[0;34m)\u001b[0m\u001b[0;34m\u001b[0m\u001b[0;34m\u001b[0m\u001b[0m\n\u001b[1;32m     30\u001b[0m \u001b[0;34m\u001b[0m\u001b[0m\n\u001b[0;32m---> 31\u001b[0;31m     \u001b[0mdist\u001b[0m\u001b[0;34m,\u001b[0m \u001b[0mind\u001b[0m \u001b[0;34m=\u001b[0m \u001b[0mkdt\u001b[0m\u001b[0;34m.\u001b[0m\u001b[0mquery\u001b[0m\u001b[0;34m(\u001b[0m\u001b[0mX1\u001b[0m\u001b[0;34m,\u001b[0m\u001b[0mk\u001b[0m\u001b[0;34m=\u001b[0m\u001b[0mK\u001b[0m\u001b[0;34m,\u001b[0m \u001b[0mdistance_upper_bound\u001b[0m\u001b[0;34m=\u001b[0m\u001b[0mmax_distance\u001b[0m\u001b[0;34m)\u001b[0m\u001b[0;34m\u001b[0m\u001b[0;34m\u001b[0m\u001b[0m\n\u001b[0m\u001b[1;32m     32\u001b[0m \u001b[0;34m\u001b[0m\u001b[0m\n\u001b[1;32m     33\u001b[0m     \u001b[0;32mreturn\u001b[0m \u001b[0mdist\u001b[0m\u001b[0;34m,\u001b[0m \u001b[0mind\u001b[0m\u001b[0;34m\u001b[0m\u001b[0;34m\u001b[0m\u001b[0m\n",
      "\u001b[0;32mckdtree.pyx\u001b[0m in \u001b[0;36mscipy.spatial.ckdtree.cKDTree.query\u001b[0;34m()\u001b[0m\n",
      "\u001b[0;32mckdtree.pyx\u001b[0m in \u001b[0;36mscipy.spatial.ckdtree.cKDTree.query._thread_func\u001b[0;34m()\u001b[0m\n",
      "\u001b[0;32m~/.local/miniconda3/envs/public/lib/python3.7/site-packages/numpy/core/fromnumeric.py\u001b[0m in \u001b[0;36mamax\u001b[0;34m(a, axis, out, keepdims, initial)\u001b[0m\n\u001b[1;32m   2503\u001b[0m     \"\"\"\n\u001b[1;32m   2504\u001b[0m     return _wrapreduction(a, np.maximum, 'max', axis, None, out, keepdims=keepdims,\n\u001b[0;32m-> 2505\u001b[0;31m                           initial=initial)\n\u001b[0m\u001b[1;32m   2506\u001b[0m \u001b[0;34m\u001b[0m\u001b[0m\n\u001b[1;32m   2507\u001b[0m \u001b[0;34m\u001b[0m\u001b[0m\n",
      "\u001b[0;32m~/.local/miniconda3/envs/public/lib/python3.7/site-packages/numpy/core/fromnumeric.py\u001b[0m in \u001b[0;36m_wrapreduction\u001b[0;34m(obj, ufunc, method, axis, dtype, out, **kwargs)\u001b[0m\n\u001b[1;32m     84\u001b[0m                 \u001b[0;32mreturn\u001b[0m \u001b[0mreduction\u001b[0m\u001b[0;34m(\u001b[0m\u001b[0maxis\u001b[0m\u001b[0;34m=\u001b[0m\u001b[0maxis\u001b[0m\u001b[0;34m,\u001b[0m \u001b[0mout\u001b[0m\u001b[0;34m=\u001b[0m\u001b[0mout\u001b[0m\u001b[0;34m,\u001b[0m \u001b[0;34m**\u001b[0m\u001b[0mpasskwargs\u001b[0m\u001b[0;34m)\u001b[0m\u001b[0;34m\u001b[0m\u001b[0;34m\u001b[0m\u001b[0m\n\u001b[1;32m     85\u001b[0m \u001b[0;34m\u001b[0m\u001b[0m\n\u001b[0;32m---> 86\u001b[0;31m     \u001b[0;32mreturn\u001b[0m \u001b[0mufunc\u001b[0m\u001b[0;34m.\u001b[0m\u001b[0mreduce\u001b[0m\u001b[0;34m(\u001b[0m\u001b[0mobj\u001b[0m\u001b[0;34m,\u001b[0m \u001b[0maxis\u001b[0m\u001b[0;34m,\u001b[0m \u001b[0mdtype\u001b[0m\u001b[0;34m,\u001b[0m \u001b[0mout\u001b[0m\u001b[0;34m,\u001b[0m \u001b[0;34m**\u001b[0m\u001b[0mpasskwargs\u001b[0m\u001b[0;34m)\u001b[0m\u001b[0;34m\u001b[0m\u001b[0;34m\u001b[0m\u001b[0m\n\u001b[0m\u001b[1;32m     87\u001b[0m \u001b[0;34m\u001b[0m\u001b[0m\n\u001b[1;32m     88\u001b[0m \u001b[0;34m\u001b[0m\u001b[0m\n",
      "\u001b[0;31mValueError\u001b[0m: zero-size array to reduction operation maximum which has no identity"
     ]
    }
   ],
   "source": [
    "\n",
    "\n",
    "import cross_match as cm\n",
    "from astropy.io import fits\n",
    "from astropy.cosmology import WMAP9 as cosmo\n",
    "from collections import OrderedDict\n",
    "\n",
    "#############################################################################\n",
    "dir_drp = '/Users/astro/Documents/notebooks/manga/spectro/analysis/MPL-8/drpall-v2_5_3.fits'\n",
    "dir_dr7 = '/Users/astro/Documents/notebooks/zs/data/gal_info_dr7_v5_2.fit'\n",
    "dir_k_10_not_enough = '/Users/astro/Documents/notebooks/zs/cross_match/cross_match_res/v4/cmatch_10_not_enough.txt'\n",
    "dir_res = '/Users/astro/Documents/notebooks/zs/cross_match/cross_match_res/v4/'\n",
    "############################################################################\n",
    "\n",
    "def cross():\n",
    "    \n",
    "    with fits.open(dir_drp) as f_drp, fits.open(dir_dr7) as f_dr7:\n",
    "\n",
    "        data = f_drp[1].data\n",
    "        manga = np.empty((len(data), 2), dtype=np.float64)\n",
    "        manga[:, 0] = data['objra']\n",
    "        manga[:, 1] = data['objdec']\n",
    "        manga_z = data['z']\n",
    "        plateifu = data['plateifu']\n",
    "\n",
    "        data1 = f_dr7[1].data\n",
    "        dr7 = np.empty((len(data1), 2), dtype=np.float64)\n",
    "        dr7[:, 0] = data1['RA']\n",
    "        dr7[:, 1] = data1['DEC']\n",
    "        dr7_z = data1['Z']\n",
    "\n",
    "        i=np.where(plateifu=='8158-3703')[0][0]\n",
    "        print(i,manga[i])\n",
    "        cm.cmatch(plateifu[i],manga[i][0],manga[i][1],manga_z[i],dr7,dr7_z,dir_res,dir_k_10_not_enough)\n",
    "\n",
    "\n",
    "if __name__ == '__main__':\n",
    "        \n",
    "    cross()"
   ]
  },
  {
   "cell_type": "markdown",
   "metadata": {},
   "source": [
    "# cross_match_395_k>10"
   ]
  },
  {
   "cell_type": "code",
   "execution_count": 1,
   "metadata": {
    "ExecuteTime": {
     "end_time": "2019-11-24T13:07:41.629576Z",
     "start_time": "2019-11-24T13:07:41.580232Z"
    }
   },
   "outputs": [],
   "source": [
    "%load_ext autoreload\n",
    "%autoreload 2"
   ]
  },
  {
   "cell_type": "code",
   "execution_count": null,
   "metadata": {},
   "outputs": [],
   "source": []
  },
  {
   "cell_type": "code",
   "execution_count": 2,
   "metadata": {
    "ExecuteTime": {
     "end_time": "2019-11-24T13:15:50.746897Z",
     "start_time": "2019-11-24T13:07:43.780898Z"
    }
   },
   "outputs": [
    {
     "name": "stdout",
     "output_type": "stream",
     "text": [
      "importing Jupyter notebook from cross_match.ipynb\n",
      "20 is not enough 10001-12704 133.989966869 57.6779676669 [0.14115479]\n",
      "20 is not enough 10507-1902 176.525541667 47.4820555556 [0.65845641]\n",
      "20 is not enough 10509-12703 168.545376088 48.318515932 [0.27914476]\n",
      "20 is not enough 10510-12704 179.117267145 55.1252090259 [0.53556613]\n",
      "20 is not enough 10517-12702 149.99409 5.32659 [1.97975657]\n",
      "20 is not enough 7958-6101 257.383688857 34.4270318778 [0.08361879]\n",
      "20 is not enough 8078-3703 42.3874325272 -0.784442553068 [0.0842864]\n",
      "20 is not enough 8079-1901 42.407980379 -0.813857447855 [0.08140749]\n",
      "20 is not enough 8079-6101 43.1562184278 -1.16906729877 [0.08903433]\n",
      "20 is not enough 8080-12702 47.9994154757 -1.16166126075 [0.07460794]\n",
      "20 is not enough 8080-12705 47.8890844551 -0.742939934572 [0.0708262]\n",
      "20 is not enough 8080-1901 47.9851588295 -0.0325628998893 [0.05324287]\n",
      "20 is not enough 8080-3701 47.528362637 -0.468033748749 [0.05456005]\n",
      "20 is not enough 8080-3704 49.4574544521 -0.554658522356 [0.09498681]\n",
      "20 is not enough 8080-6101 47.787486215 0.235180942215 [0.07564691]\n",
      "20 is not enough 8080-6102 48.0103895524 -0.0784734033184 [0.05326294]\n",
      "20 is not enough 8081-12701 48.196618271 -1.02285447351 [0.02481791]\n",
      "20 is not enough 8081-12703 50.3913688543 -0.178367722703 [0.07910651]\n",
      "20 is not enough 8081-12705 50.19091 -0.85163 [0.09185366]\n",
      "20 is not enough 8081-3703 50.0738407878 0.523632230733 [0.08262349]\n",
      "20 is not enough 8081-9101 47.7721826741 -0.546537826618 [0.07089058]\n",
      "20 is not enough 8082-12702 48.4384159113 -0.241460052673 [0.07692239]\n",
      "20 is not enough 8082-12703 49.5116507923 -0.538961269538 [0.09485518]\n",
      "20 is not enough 8082-1902 50.1606436872 -1.03501853817 [0.09503813]\n",
      "20 is not enough 8082-3701 50.1713758746 -1.17610455905 [0.0938885]\n",
      "20 is not enough 8082-3702 49.1085522243 0.321642725666 [0.09348242]\n",
      "20 is not enough 8082-3703 50.1888813763 -1.05394484938 [0.09602105]\n",
      "20 is not enough 8082-3704 50.8885990777 -0.438535643413 [0.08382894]\n",
      "20 is not enough 8082-6101 50.1451598284 -1.09589613201 [0.09348677]\n",
      "20 is not enough 8082-6103 49.7821722131 0.955959017951 [0.08363899]\n",
      "20 is not enough 8082-9101 48.6427236336 0.532374876049 [0.09509626]\n",
      "20 is not enough 8083-12702 50.245414 -0.367683 [0.09516169]\n",
      "20 is not enough 8083-12704 50.6967861467 0.149366137403 [0.08747392]\n",
      "20 is not enough 8083-12705 50.1789838473 -1.10865356255 [0.09546384]\n",
      "20 is not enough 8083-1902 51.2564602579 -0.192948313921 [0.05474686]\n",
      "20 is not enough 8083-6101 50.50408 -1.05393 [0.0753111]\n",
      "20 is not enough 8083-6102 51.1150071408 -0.0863352016678 [0.05491346]\n",
      "20 is not enough 8084-1902 52.6225852766 -0.488769014202 [0.0918667]\n",
      "20 is not enough 8084-3702 50.6366422984 -0.00121269359934 [0.09182549]\n",
      "20 is not enough 8084-6101 51.6942487239 -0.648169731434 [0.09740072]\n",
      "20 is not enough 8084-9101 50.7135225204 0.139672286532 [0.08751015]\n",
      "20 is not enough 8085-12702 51.0944329463 0.113892685771 [0.09220703]\n",
      "20 is not enough 8150-3701 147.588965479 31.4879449226 [1.16368922]\n",
      "20 is not enough 8150-3702 147.867176956 32.9436569737 [0.42749627]\n",
      "20 is not enough 8150-6103 147.148250231 33.4216194241 [0.40351337]\n",
      "20 is not enough 8154-12701 45.43511 -0.59263 [0.06359018]\n",
      "20 is not enough 8155-12704 53.1703361086 0.245738937436 [0.08317409]\n",
      "20 is not enough 8155-1901 53.0233052819 0.479390407217 [0.09053391]\n",
      "20 is not enough 8155-1902 53.7267334058 -0.788922235044 [0.0853114]\n",
      "20 is not enough 8155-3701 52.7789268292 -0.915973761209 [0.09057028]\n",
      "20 is not enough 8155-3702 54.0324255045 -0.596438683637 [0.08522195]\n",
      "20 is not enough 8155-3704 54.602285942 -0.0185818400418 [0.04213313]\n",
      "20 is not enough 8155-9102 53.6865150057 -1.24578377207 [0.0953055]\n",
      "20 is not enough 8156-12702 54.8917856748 -0.511959862583 [0.07729097]\n",
      "20 is not enough 8156-3702 54.0890115185 0.186890961787 [0.08269493]\n",
      "20 is not enough 8156-3703 56.4896580952 -0.0209215155287 [0.05327221]\n",
      "20 is not enough 8158-3703 62.5518023594 -4.98373809149 [-37.45620257]\n",
      "20 is not enough 8309-1901 210.113310058 53.7347396914 [-3.05831993]\n",
      "20 is not enough 8309-3703 210.623588189 54.2710047984 [3.91990649]\n",
      "20 is not enough 8553-12702 233.509524302 56.685685533 [0.16550788]\n",
      "20 is not enough 8553-3701 233.491509631 56.8473195647 [0.18429397]\n",
      "20 is not enough 8553-6101 233.352286757 56.6087571906 [0.16907599]\n",
      "20 is not enough 8554-12704 183.03892 36.16891 [3.61360276]\n",
      "20 is not enough 8616-1901 322.040886836 1.14109407639 [0.13692326]\n",
      "20 is not enough 8623-12704 311.829452336 0.320794803727 [0.14226867]\n",
      "20 is not enough 8623-6102 311.658778146 0.339357846417 [0.15771692]\n",
      "20 is not enough 8623-9102 311.763804801 0.436777870611 [0.15853154]\n",
      "20 is not enough 8722-3701 124.831660733 50.0057651013 [1.20044109]\n",
      "20 is not enough 8931-3704 194.990028889 28.0650886275 [0.10242364]\n",
      "20 is not enough 8932-1902 194.872523039 27.850127122 [0.08818999]\n",
      "20 is not enough 8933-1901 194.769340457 27.9109993819 [0.0934589]\n",
      "20 is not enough 8933-6102 194.85553911 27.9679392937 [0.07774064]\n",
      "20 is not enough 8933-9102 194.653147531 27.8494808325 [0.09708991]\n",
      "20 is not enough 8936-12704 116.825263443 30.9904274865 [0.15711917]\n",
      "20 is not enough 8950-12703 194.874838965 27.9564497072 [0.08810134]\n",
      "20 is not enough 8950-12705 194.733135283 27.8334449764 [0.07959634]\n",
      "20 is not enough 8950-6104 195.026210421 27.7757636408 [0.09686244]\n",
      "20 is not enough 8951-3704 194.34822527 27.5499311665 [0.09910415]\n",
      "20 is not enough 8981-12705 187.902643219 36.0074992903 [0.34618551]\n",
      "20 is not enough 9044-1902 230.303299578 30.6579265613 [0.06492602]\n",
      "20 is not enough 9183-6102 122.135232892 38.9053417382 [0.16024802]\n",
      "20 is not enough 9190-6101 53.95051 -6.71766 [0.1581864]\n",
      "20 is not enough 9192-12701 46.2926761258 -0.314889879806 [0.07115485]\n",
      "20 is not enough 9192-12703 46.3265984682 0.215557236472 [0.06910766]\n",
      "20 is not enough 9192-12704 46.2857428469 0.343443042976 [0.04602125]\n",
      "20 is not enough 9192-1902 46.3410404009 -0.382339878308 [0.08000746]\n",
      "20 is not enough 9192-3704 46.4181558739 -0.401919920453 [0.08069554]\n",
      "20 is not enough 9192-6101 46.3470225234 -0.24210798119 [0.06944343]\n",
      "20 is not enough 9192-6104 46.1646010221 -0.841305655295 [0.07261539]\n",
      "20 is not enough 9193-12701 45.954624176 -1.10374999046 [0.14627955]\n",
      "20 is not enough 9193-12702 46.3732544874 -0.381932333858 [0.08029943]\n",
      "20 is not enough 9193-1902 46.6602571675 -0.509978304821 [0.07886587]\n",
      "20 is not enough 9193-3701 46.7463179463 -0.56480466568 [0.08594507]\n",
      "20 is not enough 9193-3702 46.5212586534 -0.534049089871 [0.08066508]\n",
      "20 is not enough 9193-6101 46.6125296402 -0.846615867924 [0.07109651]\n",
      "20 is not enough 9193-6103 46.6713709268 -0.55507454213 [0.08034761]\n",
      "20 is not enough 9194-12702 46.37337 -0.38194 [0.08065504]\n",
      "20 is not enough 9194-1901 46.9714552733 -0.922970134592 [0.05155219]\n",
      "20 is not enough 9194-3701 46.8845735994 -0.96455667301 [0.05186369]\n",
      "20 is not enough 9489-12704 124.995201982 21.0662200516 [0.14133639]\n",
      "20 is not enough 9862-12704 194.897022011 27.8636288664 [0.09511926]\n",
      "20 is not enough 9862-1901 194.783112227 27.8549580996 [0.09106151]\n",
      "20 is not enough 9862-1902 194.926250218 27.9247416313 [0.08668662]\n",
      "20 is not enough 9862-3704 195.026618475 28.0041200035 [0.082394]\n",
      "20 is not enough 9862-6103 194.986060137 27.9300479255 [0.07773553]\n",
      "20 is not enough 9863-12702 194.834093588 27.8860097479 [0.09233308]\n",
      "20 is not enough 9863-12704 195.068827577 27.9675169402 [0.12888575]\n",
      "20 is not enough 9863-6103 195.022461664 28.0244372262 [0.10135202]\n",
      "20 is not enough 9873-1901 194.932191197 27.9946832292 [0.08974189]\n",
      "20 is not enough 9873-6101 194.904062045 27.8258051834 [0.0956633]\n",
      "20 is not enough 9873-6102 194.789443506 28.0409320126 [0.08307809]\n",
      "20 is not enough 9873-6104 195.06144553 28.0413643405 [0.1043658]\n",
      "20 is not enough 9874-6101 195.078300108 27.9371008252 [0.11323975]\n",
      "20 is not enough 9875-12702 194.568900631 27.802577569 [0.10505414]\n",
      "20 is not enough 9875-3701 194.959096858 27.9126548253 [0.08264729]\n",
      "20 is not enough 9875-3702 194.767316114 27.9591678574 [0.08515183]\n",
      "20 is not enough 9875-3703 195.116532022 27.955985353 [0.08549487]\n",
      "20 is not enough 9875-6104 194.917111648 27.8549331013 [0.15725271]\n",
      "20 is not enough 9875-9101 194.579932588 27.7620946664 [0.10972273]\n",
      "20 is not enough 9877-12704 195.033836039 27.9769557537 [0.09285408]\n"
     ]
    },
    {
     "name": "stdout",
     "output_type": "stream",
     "text": [
      "20 is not enough 9877-1901 195.070939008 28.0639222565 [0.09749924]\n",
      "20 is not enough 9877-3704 194.662274497 27.9539019989 [0.09985051]\n",
      "20 is not enough 9877-6104 195.090290656 27.8985596385 [0.12265471]\n",
      "20 is not enough 9880-1901 195.078678476 28.0093027853 [0.09651556]\n",
      "20 is not enough 9880-3701 194.86968999 28.0405183648 [0.10638562]\n"
     ]
    }
   ],
   "source": [
    "from collections import OrderedDict\n",
    "\n",
    "import import_ipynb\n",
    "import cross_match\n",
    "from astropy.cosmology import WMAP9 as cosmo\n",
    "from astropy.io import fits\n",
    "from astropy.table import Table\n",
    "\n",
    "\n",
    "\n",
    "#############################################################################\n",
    "dir_drp = '/Users/astro/Documents/notebooks/manga/spectro/analysis/MPL-8/drpall-v2_5_3.fits'\n",
    "dir_dr7 = '/Users/astro/Documents/notebooks/zs/data/gal_info_dr7_v5_2.fit'\n",
    "dir_k_10_not_enough = '/Users/astro/Documents/notebooks/zs/cross_match/cross_match_res/v2/cmatch_10_not_enough.txt'\n",
    "dir_res = '/Users/astro/Documents/notebooks/zs/cross_match/cross_match_res/v2/'\n",
    "############################################################################\n",
    "\n",
    "\n",
    "def cross():\n",
    "\n",
    "    with fits.open(dir_drp) as f_drp, fits.open(dir_dr7) as f_dr7:\n",
    "\n",
    "        f_10 = Table.read(dir_k_10_not_enough, format='ascii')\n",
    "        manga = np.empty((len(f_10), 2), dtype=np.float64)\n",
    "        manga[:, 0] = f_10['col2']\n",
    "        manga[:, 1] = f_10['col3']\n",
    "        plateifu = f_10['col1']\n",
    "\n",
    "        data = f_drp[1].data\n",
    "        Z = data['Z']\n",
    "        pifu = data['plateifu']\n",
    "\n",
    "        data1 = f_dr7[1].data\n",
    "        dr7 = np.empty((len(data1), 2), dtype=np.float64)\n",
    "        dr7[:, 0] = data1['RA']\n",
    "        dr7[:, 1] = data1['DEC']\n",
    "        dr7_z = data1['Z']\n",
    "\n",
    "        for i in range(0, len(manga)):\n",
    "\n",
    "            index = np.where(pifu == plateifu[i])[0]\n",
    "            z = Z[index]\n",
    "            dis = cosmo.comoving_distance(z)  # Mpc\n",
    "            r = 0.15 / dis.value\n",
    "            max_r = cross_match.r2arcsec(r)  # degree\n",
    "\n",
    "            dist, ind = cross_match.crossmatch_angular(manga[i], dr7,20, max_r)\n",
    "            match = ~np.isinf(dist)\n",
    "            dist_match = dist[match]\n",
    "            ind_match = ind[match]\n",
    "\n",
    "            ind_1 = list(OrderedDict.fromkeys(list(ind_match)))\n",
    "            match_1 = []  # dist index which remove multiple elements\n",
    "            for k in ind_1:\n",
    "                index = np.where(ind_match == k)[0][0]\n",
    "                match_1.append(dist_match[index])\n",
    "\n",
    "            if len(ind_match) == len(ind_1) and len(ind_1) > 0:\n",
    "                if len(dist[0]) == len(dist_match):\n",
    "                    print('20 is not enough', plateifu[i], manga[:, 0][i],\n",
    "                          manga[:, 1][i], max_r)\n",
    "                elif len(dist[0]) > len(dist_match):\n",
    "                    with open(dir_res + plateifu[i] + '.txt', 'a+') as f_res:\n",
    "                        print('index',\n",
    "                              'ra',\n",
    "                              'dec',\n",
    "                              'min_dis_deg',\n",
    "                              'max_r',\n",
    "                              file=f_res)\n",
    "                        for j in range(0, len(ind_1)):\n",
    "                            ra = dr7[:, 0][ind_1[j]]\n",
    "                            dec = dr7[:, 1][ind_1[j]]\n",
    "                            print(ind_1[j],\n",
    "                                  ra,\n",
    "                                  dec,\n",
    "                                  match_1[j],\n",
    "                                  max_r,\n",
    "                                  file=f_res)\n",
    "\n",
    "if __name__ == '__main__':\n",
    "\n",
    "    cross()"
   ]
  },
  {
   "cell_type": "code",
   "execution_count": 2,
   "metadata": {
    "ExecuteTime": {
     "end_time": "2019-11-24T12:48:34.482706Z",
     "start_time": "2019-11-24T12:48:34.349527Z"
    }
   },
   "outputs": [
    {
     "name": "stdout",
     "output_type": "stream",
     "text": [
      "    col1         col2          col3             col4        \n",
      "----------- ------------- ------------- --------------------\n",
      "10001-12704 133.989966869 57.6779676669  0.14115478769125356\n",
      " 10001-3701 132.465646765 57.1437279024 0.050848013169786446\n",
      " 10001-3702 132.912768243 57.1074235568  0.07803981454301591\n",
      " 10001-6102 132.653991697 57.3596675436  0.07655848771578087\n",
      " 10213-3703      123.8433      44.06446  0.09834188009019654\n",
      " 10219-1901  125.14376637 21.1054663161   0.1182713927146769\n",
      " 10219-1902 125.062375384 21.0600550691  0.11999492813396592\n",
      " 10219-6102 125.148697904 21.0677945565   0.1325546782566985\n",
      "10221-12703     124.05695        25.076  0.12770682318244184\n",
      "10221-12705 124.109635921 23.1425158913  0.14425187053577215\n",
      "        ...           ...           ...                  ...\n",
      "  9877-1902 195.270098514 27.8917529314  0.10310391900048708\n",
      "  9877-3704 194.662274497 27.9539019989  0.09985051496205223\n",
      "  9877-6104 195.090290656 27.8985596385  0.12265470861052226\n",
      "  9879-1901 197.345330817 28.3212797241  0.10426533703820699\n",
      "  9879-1902 197.347602609 28.2814499456  0.09574048573760299\n",
      " 9880-12701     195.16572      27.92401  0.07964492949321461\n",
      " 9880-12705 195.817715111 28.0304344776  0.09823972155207379\n",
      "  9880-1901 195.078678476 28.0093027853  0.09651556194404373\n",
      "  9880-3701  194.86968999 28.0405183648  0.10638562269386645\n",
      "  9880-6102 195.806967087 27.3690721375  0.09385510773996135\n",
      "  9887-6102 237.440006004 28.5470425004  0.06535898417997109\n",
      "Length = 395 rows 395\n"
     ]
    }
   ],
   "source": [
    "from astropy.table import Table\n",
    "\n",
    "t=Table.read('/Users/astro/Documents/notebooks/zs/cross_match/cross_match_res/v2/cmatch_10_not_enough.txt',format='ascii')\n",
    "print(t,len(t))"
   ]
  },
  {
   "cell_type": "code",
   "execution_count": null,
   "metadata": {},
   "outputs": [],
   "source": []
  },
  {
   "cell_type": "code",
   "execution_count": null,
   "metadata": {},
   "outputs": [],
   "source": []
  },
  {
   "cell_type": "code",
   "execution_count": null,
   "metadata": {},
   "outputs": [],
   "source": []
  },
  {
   "cell_type": "code",
   "execution_count": null,
   "metadata": {},
   "outputs": [],
   "source": []
  },
  {
   "cell_type": "code",
   "execution_count": null,
   "metadata": {},
   "outputs": [],
   "source": []
  }
 ],
 "metadata": {
  "hide_input": false,
  "kernelspec": {
   "display_name": "Python 3",
   "language": "python",
   "name": "python3"
  },
  "language_info": {
   "codemirror_mode": {
    "name": "ipython",
    "version": 3
   },
   "file_extension": ".py",
   "mimetype": "text/x-python",
   "name": "python",
   "nbconvert_exporter": "python",
   "pygments_lexer": "ipython3",
   "version": "3.7.2"
  },
  "nbTranslate": {
   "displayLangs": [
    "*"
   ],
   "hotkey": "alt-t",
   "langInMainMenu": true,
   "sourceLang": "en",
   "targetLang": "fr",
   "useGoogleTranslate": true
  },
  "toc": {
   "base_numbering": 1,
   "nav_menu": {},
   "number_sections": true,
   "sideBar": true,
   "skip_h1_title": false,
   "title_cell": "Table of Contents",
   "title_sidebar": "Contents",
   "toc_cell": false,
   "toc_position": {},
   "toc_section_display": true,
   "toc_window_display": true
  },
  "varInspector": {
   "cols": {
    "lenName": 16,
    "lenType": 16,
    "lenVar": 40
   },
   "kernels_config": {
    "python": {
     "delete_cmd_postfix": "",
     "delete_cmd_prefix": "del ",
     "library": "var_list.py",
     "varRefreshCmd": "print(var_dic_list())"
    },
    "r": {
     "delete_cmd_postfix": ") ",
     "delete_cmd_prefix": "rm(",
     "library": "var_list.r",
     "varRefreshCmd": "cat(var_dic_list()) "
    }
   },
   "types_to_exclude": [
    "module",
    "function",
    "builtin_function_or_method",
    "instance",
    "_Feature"
   ],
   "window_display": false
  }
 },
 "nbformat": 4,
 "nbformat_minor": 2
}
